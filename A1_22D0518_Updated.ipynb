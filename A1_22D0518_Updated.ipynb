{
  "nbformat": 4,
  "nbformat_minor": 0,
  "metadata": {
    "colab": {
      "provenance": []
    },
    "kernelspec": {
      "name": "python3",
      "display_name": "Python 3"
    },
    "language_info": {
      "name": "python"
    }
  },
  "cells": [
    {
      "cell_type": "code",
      "execution_count": 70,
      "metadata": {
        "id": "KfhtG9Le2EUP"
      },
      "outputs": [],
      "source": [
        "# importing required libraries\n",
        "import numpy as np\n",
        "import matplotlib.pyplot as plt\n",
        "# setting a random seed for reproducing same results\n",
        "np.random.seed(21)"
      ]
    },
    {
      "cell_type": "markdown",
      "source": [
        "1. Write a function to generate a data matrix X. Inputs: Number of samples, feature dimension. Output: Data matrix X."
      ],
      "metadata": {
        "id": "9plEWjDKnwDl"
      }
    },
    {
      "cell_type": "code",
      "source": [
        "# fn to generate a random data matrix of given dimensions\n",
        "def Random_Data_Matrix(Samples, Features):\n",
        "    X = np.random.rand(Samples, Features)\n",
        "    return X"
      ],
      "metadata": {
        "id": "MTFTzSuQ2qC4"
      },
      "execution_count": 71,
      "outputs": []
    },
    {
      "cell_type": "code",
      "source": [
        "# Generate X, a 100 x 9 Matrix of Random Values\n",
        "X = Random_Data_Matrix(100,9)"
      ],
      "metadata": {
        "id": "AdTl5Q1GQC6b"
      },
      "execution_count": 72,
      "outputs": []
    },
    {
      "cell_type": "markdown",
      "source": [
        "2. Write a function to generated dependent variable column t.\n",
        "\n",
        "a) Inputs: Data matrix X, weight vector for each column, bias w0, noise variance\n",
        "\n",
        "b) Output: Target vector t"
      ],
      "metadata": {
        "id": "iVaWrpGQn4Xz"
      }
    },
    {
      "cell_type": "code",
      "source": [
        "# fn to generate a random target vector of same dimensions as no of samples in X \n",
        "def Target(X, w, w0, Var):\n",
        "    # mean & sd for noise modelled as normal distribution\n",
        "    mean=0\n",
        "    sd=np.sqrt(Var)\n",
        "    # noise vector of random values with normal distribution\n",
        "    noise=np.random.normal(mean,sd,(X.shape[0]))\n",
        "    # target t, dot product of X & w with added bias & noise\n",
        "    t = X@w + w0 + noise\n",
        "    return t"
      ],
      "metadata": {
        "id": "ADEiazOh3jEb"
      },
      "execution_count": 73,
      "outputs": []
    },
    {
      "cell_type": "code",
      "source": [
        "# defining a random weight vector\n",
        "w = np.array([3,4,6,1,2,4,5,11,9])\n",
        "#w = np.random.normal(0,1,X.shape[1])\n",
        "# defining bias or the y intercept for linear regression\n",
        "w0=0.5\n",
        "# evaluating the target vector, t\n",
        "t = Target(X, w, w0, Var=0.4)\n",
        "t"
      ],
      "metadata": {
        "colab": {
          "base_uri": "https://localhost:8080/"
        },
        "id": "JNPxygqtRiEc",
        "outputId": "dcedac68-c433-4a13-a531-247f6d19fb65"
      },
      "execution_count": 74,
      "outputs": [
        {
          "output_type": "execute_result",
          "data": {
            "text/plain": [
              "array([19.44281671, 31.42624768, 29.12909358, 25.10474696, 30.25042088,\n",
              "       29.28689426, 26.05711019, 18.97714673, 24.83952571, 22.93497038,\n",
              "       17.81912268, 22.94124521, 26.61488738, 24.19276975, 32.76314969,\n",
              "       11.51357866, 12.27865382, 20.32630531, 25.49107792, 24.31523549,\n",
              "       31.20399894, 25.68274008, 17.06832638, 19.94772161, 16.73046512,\n",
              "       20.25937219, 28.44088065, 23.11768083, 29.51061781, 29.90312584,\n",
              "       20.80108068, 24.89305136, 24.28807488, 20.72786637, 20.15927982,\n",
              "       28.1879014 , 13.75342622, 24.72131041,  7.82087814, 31.06325057,\n",
              "       32.74140113, 27.0028451 , 25.07031648, 34.65589127, 28.1565822 ,\n",
              "       26.50467455, 32.07407919, 21.72019274, 20.97460077, 26.77841602,\n",
              "       19.43347399, 20.87105808, 22.36350937, 24.30021539, 28.61447573,\n",
              "       27.7980433 , 26.75480566, 26.31629624, 22.71549945, 22.9562208 ,\n",
              "       19.92426   , 20.82350889, 27.12379635, 25.8552806 , 23.82914938,\n",
              "       24.72667704, 20.87859001, 26.09138577, 19.50310547, 20.50304618,\n",
              "       23.31622297, 12.61426641, 17.03370929, 13.86846732, 31.6874048 ,\n",
              "       18.37477033, 11.78870074, 21.45605713, 24.39617136, 24.5740274 ,\n",
              "       25.11415728, 19.201408  , 21.1706963 , 13.02270675, 21.70659507,\n",
              "       32.9938866 , 16.89712203, 20.82932736, 18.5431815 , 22.85113686,\n",
              "       20.93020279, 19.33928122, 28.78796932, 20.26323994, 12.50349948,\n",
              "       21.65366625, 18.99419125, 22.64773925, 19.19715952, 31.64314676])"
            ]
          },
          "metadata": {},
          "execution_count": 74
        }
      ]
    },
    {
      "cell_type": "markdown",
      "source": [
        "3. Write a function to compute a linear regression estimate. [1]\n",
        "\n",
        "a) Input: data matrix X and weight vector w\n",
        "\n",
        "b) Output: y"
      ],
      "metadata": {
        "id": "OHBCLJqPoGkx"
      }
    },
    {
      "cell_type": "code",
      "source": [
        "# fn to find the predicted label y for a given dataset X & weight w without bias\n",
        "def LR_Estimate(X, w):\n",
        "    y = X@w\n",
        "    return y"
      ],
      "metadata": {
        "id": "tJiJ8-3U3qEL"
      },
      "execution_count": 75,
      "outputs": []
    },
    {
      "cell_type": "code",
      "source": [
        "# Linear Regression Estimate for a given dataset X & weight w\n",
        "y = LR_Estimate(X, w)\n",
        "y"
      ],
      "metadata": {
        "colab": {
          "base_uri": "https://localhost:8080/"
        },
        "id": "sewMOhVXSAwe",
        "outputId": "697b09cb-dbda-4789-97f5-1b39877dbc7a"
      },
      "execution_count": 76,
      "outputs": [
        {
          "output_type": "execute_result",
          "data": {
            "text/plain": [
              "array([17.85236842, 31.10793913, 28.52248268, 23.2526174 , 29.114632  ,\n",
              "       28.3136832 , 25.87168642, 18.9038798 , 25.16766596, 23.11302337,\n",
              "       17.3915159 , 22.12281383, 24.92062092, 22.70672803, 32.0823496 ,\n",
              "       10.87707108, 11.47824329, 19.88933863, 23.98053995, 24.21698736,\n",
              "       30.88222249, 26.08248459, 17.42870531, 19.16796678, 15.58204167,\n",
              "       19.17464847, 27.32731304, 23.21331839, 27.82529582, 29.04795293,\n",
              "       20.50628908, 24.37401087, 24.31529775, 20.68140493, 19.48169499,\n",
              "       27.91905048, 13.12622965, 24.08646787,  8.31961748, 29.73219803,\n",
              "       30.92842875, 26.9275647 , 24.25914365, 33.51429749, 27.6264593 ,\n",
              "       25.85359289, 31.98429234, 21.50120302, 20.27491195, 25.44611199,\n",
              "       18.81384922, 19.71059225, 21.63945644, 23.8516585 , 27.56204828,\n",
              "       26.94036586, 25.48120576, 24.82898279, 21.86683399, 22.10295146,\n",
              "       18.7395581 , 20.56086513, 26.72900326, 24.74943131, 24.01090203,\n",
              "       25.24950413, 20.91772702, 25.16951072, 18.81221948, 20.03005699,\n",
              "       22.80773593, 12.71537046, 16.52731335, 13.75629476, 30.57471317,\n",
              "       17.86575915, 10.84328191, 20.63955167, 23.94700521, 24.31752004,\n",
              "       24.96751545, 18.31021239, 20.25735079, 13.102801  , 21.40778245,\n",
              "       32.30425762, 16.3471647 , 19.71620146, 17.92339377, 21.49896167,\n",
              "       20.82929308, 18.49021743, 28.45825399, 20.3185169 , 13.84003082,\n",
              "       21.35004652, 18.47770856, 21.89395675, 17.98139293, 30.94053497])"
            ]
          },
          "metadata": {},
          "execution_count": 76
        }
      ]
    },
    {
      "cell_type": "markdown",
      "source": [
        "4. Write a function to compute the mean square error of two vectors y and t. [1]"
      ],
      "metadata": {
        "id": "5wvXWuSboNCd"
      }
    },
    {
      "cell_type": "code",
      "source": [
        "# fn to evaluate the mse between the true & predicted values, y & t\n",
        "def Mean_Square_Error(y,t):\n",
        "    # mean of the square of the difference between the corresponding column instances\n",
        "    return np.mean((y - t)**2)"
      ],
      "metadata": {
        "id": "vXpJnLA_5Xar"
      },
      "execution_count": 77,
      "outputs": []
    },
    {
      "cell_type": "code",
      "source": [
        "# fn call to evaluate the mse\n",
        "MSE=Mean_Square_Error(y,t)\n",
        "MSE"
      ],
      "metadata": {
        "colab": {
          "base_uri": "https://localhost:8080/"
        },
        "id": "IlnacnK_R-NI",
        "outputId": "6b9b3b0b-62ad-4f40-b0ea-2f9a6816e02b"
      },
      "execution_count": 78,
      "outputs": [
        {
          "output_type": "execute_result",
          "data": {
            "text/plain": [
              "0.6873108652151357"
            ]
          },
          "metadata": {},
          "execution_count": 78
        }
      ]
    },
    {
      "cell_type": "markdown",
      "source": [
        "5. Write a function to estimate the weights of linear regression using pseudo-inverse, assuming L2 regularization [2]:\n",
        "\n",
        "a) Input: X, t, and lambda\n",
        "\n",
        "b) Output: w, MSE, y"
      ],
      "metadata": {
        "id": "F-N5MucboTvo"
      }
    },
    {
      "cell_type": "code",
      "source": [
        "# fn to evaluate the weights in regularised linear regression using pseudo inverse method\n",
        "def LR_Weights_Pseudo_Inverse(X, t, l):\n",
        "    # begin by creating an identity matrix multiplied with regularisation factor, l for regularisation \n",
        "    R = l*np.eye(X.shape[1])\n",
        "    # np.linalg.inv evaluates the simple inverse\n",
        "    # same dotted with X transpose gives us the pseudoinverse\n",
        "    w = np.linalg.inv(X.T@X + R) @ X.T @ t\n",
        "    # the weight vector w can now be used for evaluating the predicted target y\n",
        "    y = X@w\n",
        "    # y & t can now be used for evaluating the mean square error\n",
        "    MSE = Mean_Square_Error(y, t)\n",
        "    # fn returns the weight vector, mse & predicted target y\n",
        "    return w,MSE,y"
      ],
      "metadata": {
        "id": "xDanoJ8e7ChW"
      },
      "execution_count": 79,
      "outputs": []
    },
    {
      "cell_type": "code",
      "source": [
        "# in order to find the linear regression weights using the pseudo inverse method\n",
        "# we need to allow the linear regression model to choose the y intercept\n",
        "# as the best fit line does not always necessarily have to go from the origin \n",
        "# we begin by creating a column of all ones as many as the no of the samples\n",
        "x0=np.ones(X.shape[0])\n",
        "# the input X is concatenated with a column of 1 to create an augmented data matrix X1\n",
        "X1 = np.column_stack((x0, X))\n",
        "# the same X1 augmneted data matrix is now passed to the pseudo inverse function\n",
        "w, MSE, y = LR_Weights_Pseudo_Inverse(X1, t, l=0.3)\n",
        "w,MSE"
      ],
      "metadata": {
        "colab": {
          "base_uri": "https://localhost:8080/"
        },
        "id": "zxxoN8AvUqI3",
        "outputId": "2b7fffa3-de0c-4eac-fb57-e3f3f05aaa69"
      },
      "execution_count": 80,
      "outputs": [
        {
          "output_type": "execute_result",
          "data": {
            "text/plain": [
              "(array([ 0.77208199,  2.90212153,  4.06109374,  6.12537447,  0.95393722,\n",
              "         1.94161477,  3.94267012,  4.92536406, 10.8009904 ,  9.0039351 ]),\n",
              " 0.32296224274978036)"
            ]
          },
          "metadata": {},
          "execution_count": 80
        }
      ]
    },
    {
      "cell_type": "markdown",
      "source": [
        "6. Write a function to compute the gradient of MSE with respect to its weight vector. [2]\n",
        "\n",
        "a) Input: X matrix, t vector, and w vector\n",
        "\n",
        "b) Output: gradient vector"
      ],
      "metadata": {
        "id": "4DudNA2XocEE"
      }
    },
    {
      "cell_type": "code",
      "source": [
        "# fn to evaluate the gradient of the MSE function\n",
        "def MSE_gradient(X, t, w):\n",
        "    # N is the no of the samples\n",
        "    N=len(t)\n",
        "    # dmse is the derivative of mse function\n",
        "    dmse=(2/N)*X.T@(X@w-t)\n",
        "    return dmse\n",
        "# to find the gradient, we pass the input X1, target t, & weight vector w\n",
        "dmse=MSE_gradient(X1,t,w)\n",
        "dmse"
      ],
      "metadata": {
        "colab": {
          "base_uri": "https://localhost:8080/"
        },
        "id": "Fm4JoV5ilEwi",
        "outputId": "b315a2e0-8118-4155-ac44-d8abe8d408fd"
      },
      "execution_count": 81,
      "outputs": [
        {
          "output_type": "execute_result",
          "data": {
            "text/plain": [
              "array([-0.00463249, -0.01741273, -0.02436656, -0.03675225, -0.00572362,\n",
              "       -0.01164969, -0.02365602, -0.02955218, -0.06480594, -0.05402361])"
            ]
          },
          "metadata": {},
          "execution_count": 81
        }
      ]
    },
    {
      "cell_type": "markdown",
      "source": [
        "7. Write a function to compute L2 norm of a vector w passed as a numpy array. Exclude bias w0."
      ],
      "metadata": {
        "id": "bKCzz5ddojrH"
      }
    },
    {
      "cell_type": "code",
      "source": [
        "# fn to find the L2 Norm \n",
        "def L2_Norm(v):\n",
        "    # numpy has an inbuilt fn to evaluate the norms of different order\n",
        "    # we pass ord=2 to evaluate the L2 Norm\n",
        "    # also 0th term represnts bias & is not considered in the norm of weight vector\n",
        "    L2=np.linalg.norm(v[1:], ord=2)\n",
        "    return L2\n",
        "# passing weight vector to find the L2 Norm\n",
        "L2=L2_Norm(w)\n",
        "L2"
      ],
      "metadata": {
        "colab": {
          "base_uri": "https://localhost:8080/"
        },
        "id": "rvzRjksUWS95",
        "outputId": "22379cdd-442e-44b0-deb2-4c1da7c687ac"
      },
      "execution_count": 82,
      "outputs": [
        {
          "output_type": "execute_result",
          "data": {
            "text/plain": [
              "17.454253580395825"
            ]
          },
          "metadata": {},
          "execution_count": 82
        }
      ]
    },
    {
      "cell_type": "markdown",
      "source": [
        "8. Write a function to compute the gradient of L2 norm with respect to the weight vectors. [2]\n",
        "\n",
        "a) Input: X matrix and w vector\n",
        "\n",
        "b) Output: gradient vector, where gradient with respect to w0 is 0."
      ],
      "metadata": {
        "id": "82aKzVzXoqGV"
      }
    },
    {
      "cell_type": "code",
      "source": [
        "# fn to find the gradient of the L2 Norm\n",
        "def L2_gradient(v):\n",
        "    L2=np.linalg.norm(v[1:], ord=2)\n",
        "    # the ith entry in gradient of L2 norm is 2*v[i]/L2(v)\n",
        "    # also 0th term represnts bias & is not considered in the norm of weight vector\n",
        "    dl2=np.concatenate(([0],2*v[1:]/L2))\n",
        "    # a zero is also concatenated at the beginning as required in the question\n",
        "    return dl2\n",
        "# passing weight vector to find the gradient of its L2 Norm\n",
        "dl2=L2_gradient(w)\n",
        "dl2"
      ],
      "metadata": {
        "colab": {
          "base_uri": "https://localhost:8080/"
        },
        "id": "pOvA_O4NfPJi",
        "outputId": "bde8ce40-2ee0-438d-9341-5ced893bd4c2"
      },
      "execution_count": 83,
      "outputs": [
        {
          "output_type": "execute_result",
          "data": {
            "text/plain": [
              "array([0.        , 0.33254032, 0.46534144, 0.70187756, 0.10930713,\n",
              "       0.22248041, 0.45177184, 0.56437407, 1.23763418, 1.03171815])"
            ]
          },
          "metadata": {},
          "execution_count": 83
        }
      ]
    },
    {
      "cell_type": "code",
      "source": [
        "# since regularisation uses square of L2 Norm for mathematical convenience\n",
        "# below fn evaluats the gradient of L2 Norm Squared \n",
        "def L2_Norm_Square_Gradient(v):\n",
        "    # L2 Norm Squared gradient is just 2*v[i] for ith instance in the vector v\n",
        "    # also 0th term represnts bias & is not considered in the norm of weight vector\n",
        "    dl2_sq=np.concatenate(([0],2*v[1:]))\n",
        "    # a zero is also concatenated at the beginning as required in the question\n",
        "    return dl2_sq\n",
        "# passing weight vector to find the gradient of its L2 Norm Squared\n",
        "dl2_sq=L2_Norm_Square_Gradient(w)\n",
        "dl2_sq"
      ],
      "metadata": {
        "colab": {
          "base_uri": "https://localhost:8080/"
        },
        "id": "j920Gs0-pyex",
        "outputId": "d622a0f4-803c-42ca-b70f-03d5f5c9b32a"
      },
      "execution_count": 84,
      "outputs": [
        {
          "output_type": "execute_result",
          "data": {
            "text/plain": [
              "array([ 0.        ,  5.80424306,  8.12218749, 12.25074894,  1.90787444,\n",
              "        3.88322955,  7.88534023,  9.85072813, 21.6019808 , 18.0078702 ])"
            ]
          },
          "metadata": {},
          "execution_count": 84
        }
      ]
    },
    {
      "cell_type": "markdown",
      "source": [
        "9. Write a function to compute L1 norm of a vector w passed as a numpy array. Exclude bias w0. [1]"
      ],
      "metadata": {
        "id": "x3w8y1rpo76p"
      }
    },
    {
      "cell_type": "code",
      "source": [
        "# fn to find the L1 Norm of the vector v\n",
        "def L1_Norm(v):\n",
        "    # L1 norm is just the sum of the absolute values of vector\n",
        "    # also 0th term represnts bias & is not considered in the norm of weight vector\n",
        "    # hence v[1:] is passed\n",
        "    # ord=1 implies the L1 norm\n",
        "    L1=np.linalg.norm(v[1:], ord=1)\n",
        "    return L1\n",
        "# passing weight vector w to find the L1 Norm\n",
        "L1=L1_Norm(w)\n",
        "L1"
      ],
      "metadata": {
        "colab": {
          "base_uri": "https://localhost:8080/"
        },
        "id": "pqBVGOz7ij4K",
        "outputId": "be5e7cd2-3e7e-4c14-af33-bfe8661130b3"
      },
      "execution_count": 85,
      "outputs": [
        {
          "output_type": "execute_result",
          "data": {
            "text/plain": [
              "44.65710141915717"
            ]
          },
          "metadata": {},
          "execution_count": 85
        }
      ]
    },
    {
      "cell_type": "markdown",
      "source": [
        "10. Write a function to compute the gradient of L1 norm with respect to the weight vectors. [2]\n",
        "\n",
        "a) Input: X matrix and w vector\n",
        "\n",
        "b) Output: gradient vector, where gradient with respect to w0 is 0."
      ],
      "metadata": {
        "id": "Rm5R0Dj2pDMR"
      }
    },
    {
      "cell_type": "code",
      "source": [
        "# fn to find the gradient of L1 norm \n",
        "def L1_gradient(v):\n",
        "    # gradient of L1 norm is either 1 or -1 depending of the sign of the ith instance in the weigt vector\n",
        "    dl1=np.concatenate(([0],np.sign(v[1:])))\n",
        "    # also 0th term represnts bias & is not considered in the norm of weight vector\n",
        "    # hence v[1:] is passed\n",
        "    # a zero is also concatenated at the beginning as required in the question\n",
        "    return dl1\n",
        "# passing weight vector w to find the L1 Norm Gradient\n",
        "dl1=L1_gradient(w)\n",
        "dl1"
      ],
      "metadata": {
        "colab": {
          "base_uri": "https://localhost:8080/"
        },
        "id": "yV99KQhSkxv0",
        "outputId": "af9eefc2-512c-4e5a-e467-fa6afd082d8c"
      },
      "execution_count": 86,
      "outputs": [
        {
          "output_type": "execute_result",
          "data": {
            "text/plain": [
              "array([0., 1., 1., 1., 1., 1., 1., 1., 1., 1.])"
            ]
          },
          "metadata": {},
          "execution_count": 86
        }
      ]
    },
    {
      "cell_type": "markdown",
      "source": [
        "11. Write a function for a single update of weights of linear regression using gradient descent. [2]\n",
        "\n",
        "a) Input: X, t, w, eta, lambda 2, lambda 1. Note that the weight of MSE will be 1\n",
        "\n",
        "b) Output: updated weight and updated MSE"
      ],
      "metadata": {
        "id": "CFq0R4VBpIhm"
      }
    },
    {
      "cell_type": "code",
      "source": [
        "# fn to perform a single step of weight update using w = w - eta*gradient\n",
        "def Single_Weight_Update(X, t, w, eta, l2, l1):\n",
        "    #we independently find the gradients of mse, l2, l1 wrt to w by passing the same to the predefined functions\n",
        "    gradient_MSE = (2) * X.T @ (X@w-t)\n",
        "    gradient_L2_Square = L2_Norm_Square_Gradient(w)\n",
        "    gradient_L1 = L1_gradient(w)\n",
        "    # all gradients are then added up together with weightage 1, l2, l1 for mse, L2 Reg, L1 Reg respectively\n",
        "    gradient=gradient_MSE + l2*gradient_L2_Square + l1*gradient_L1\n",
        "    # the same gradient can now be use for weight update with step size eta\n",
        "    w = w - eta*gradient\n",
        "    # updated weight vector w cam now be used to find the predicted target y\n",
        "    y=X@w\n",
        "    # predicted y can be used for the evaluation of mse \n",
        "    MSE=Mean_Square_Error(y,t)\n",
        "    # w & mse after the weight update are now returned\n",
        "    return w, MSE\n",
        "# we can now call the same fn by passsing the appropriate input variables\n",
        "w, MSE=Single_Weight_Update(X1,t,w,eta=0.001,l2=0.3,l1=0.4)\n",
        "w,MSE"
      ],
      "metadata": {
        "colab": {
          "base_uri": "https://localhost:8080/"
        },
        "id": "OpSz1T6oJx3q",
        "outputId": "dc690053-0a04-4d10-dc26-e44dba0f0e4d"
      },
      "execution_count": 87,
      "outputs": [
        {
          "output_type": "execute_result",
          "data": {
            "text/plain": [
              "(array([ 0.77254524,  2.90172153,  4.06069374,  6.12497447,  0.95353722,\n",
              "         1.94121477,  3.94227012,  4.92496406, 10.8005904 ,  9.0035351 ]),\n",
              " 0.3230691746387875)"
            ]
          },
          "metadata": {},
          "execution_count": 87
        }
      ]
    },
    {
      "cell_type": "markdown",
      "source": [
        "12. Write a function to estimate the weights of linear regression using gradient descent. [3]\n",
        "\n",
        "a) Inputs: X, t, lambda2 (default 0), lambda1 (default 0), eta, max_iter, min_change_NRMSE\n",
        "\n",
        "b) Output: Final w, final RMSE normalized with respect to variance of t.\n",
        "\n",
        "c) Stopping criteria: Either max_iter has been reached, or the normalized RMSE does not change by more than min_change_NRMSE"
      ],
      "metadata": {
        "id": "oRBaHifapMG0"
      }
    },
    {
      "cell_type": "code",
      "source": [
        "# fn to estimate the weights of linear regression using gradient descent\n",
        "def LR_Weights_Gradient_Descent(X, t, l2, l1, eta, max_iter, min_change_NRMSE):\n",
        "    # we begin by initialising a random or zero weight vector of appropriate dims\n",
        "    #w=np.random.normal(0,1,X.shape[1])\n",
        "    w=np.zeros(X.shape[1])\n",
        "    # the same can be used to estimate y, mse, rmse, nrmse\n",
        "    y=X@w\n",
        "    # passing predicted y & target t to mse function\n",
        "    MSE=Mean_Square_Error(y,t)\n",
        "    # taking square root\n",
        "    RMSE=np.sqrt(MSE)\n",
        "    # normalisation using standard deviation of target t\n",
        "    #NRMSE=RMSE/np.std(t)\n",
        "    NRMSE=np.inf\n",
        "\n",
        "    # run a loop till max iterations given \n",
        "    for i in range(max_iter):\n",
        "        # pass the current weight vector w to previously defined function\n",
        "        w, MSE = Single_Weight_Update(X, t, w, eta, l2, l1)\n",
        "        # after a single weight update evaulate the predicted y, mse, rmse, nrmse as follows\n",
        "        y=X@w\n",
        "        RMSE =np.sqrt(MSE)\n",
        "        NRMSE =RMSE/np.std(t)\n",
        "        # if the difference in the previous nrmse & current nrmse is less then given min_change_NRMSE, break\n",
        "        if i > 0:\n",
        "          if abs(NRMSE-PREV_NRMSE)<min_change_NRMSE:\n",
        "            break\n",
        "        # update the current nrmse into the previous \n",
        "        PREV_NRMSE = NRMSE\n",
        "    return w, NRMSE\n",
        "# we can now call the same fn by passsing the appropriate input variables that returns the final weight vector & NRMSE\n",
        "w,NRMSE=LR_Weights_Gradient_Descent(X1, t, l2=0.3, l1=0.4, eta=0.001, max_iter=1000, min_change_NRMSE=1e-8)\n",
        "w,NRMSE"
      ],
      "metadata": {
        "colab": {
          "base_uri": "https://localhost:8080/"
        },
        "id": "SPncSl2yLokW",
        "outputId": "13739411-7c82-40e2-891c-ef853c92c245"
      },
      "execution_count": 88,
      "outputs": [
        {
          "output_type": "execute_result",
          "data": {
            "text/plain": [
              "(array([ 0.96338291,  2.86530037,  4.00199243,  6.06815386,  0.91475895,\n",
              "         1.90467109,  3.90623779,  4.89729187, 10.75104806,  8.97246119]),\n",
              " 0.10657665058296288)"
            ]
          },
          "metadata": {},
          "execution_count": 88
        }
      ]
    },
    {
      "cell_type": "markdown",
      "source": [
        "13.Run multiple experiments (with different random seeds) for, plot the results of (box plots), and comment on the trends and potential reasons for the following relations:\n",
        "\n",
        "a) Training and validation NRMSE obtained using pseudo inverse with number of training samples"
      ],
      "metadata": {
        "id": "eTAO0nfVrzvI"
      }
    },
    {
      "cell_type": "code",
      "source": [
        "# we begin by creating empty arrays to store results for the Box Plots\n",
        "Training_NRMSE = np.empty(11)\n",
        "Validation_NRMSE = np.empty(11)\n",
        "i=1\n",
        "while(i<11):\n",
        "    # setting a new random seed for every iteration \n",
        "    np.random.seed(5*i)\n",
        "\n",
        "    # generate random training data from previously defined functions\n",
        "    Training_X = Random_Data_Matrix(20*i,9)\n",
        "    w = np.random.normal(0,1,Training_X.shape[1])\n",
        "    Training_t = Target(Training_X, w, w0=0.5, Var=0.4)\n",
        "    x0=np.ones(Training_X.shape[0])\n",
        "    Training_X1 = np.column_stack((x0, Training_X))\n",
        "    \n",
        "    # similarly generate validation data from previously defined functions\n",
        "    Validation_X = Random_Data_Matrix(5*i,9)\n",
        "    #w = np.random.normal(0,1,Validation_X.shape[1])\n",
        "    Validation_t = Target(Validation_X, w, w0=0.05, Var=0.14)\n",
        "    x0=np.ones(Validation_X.shape[0])\n",
        "    Validation_X1 = np.column_stack((x0, Validation_X))\n",
        "\n",
        "    # in both training & validation the number of samples is a function of i\n",
        "\n",
        "    # now we call the pseudo inverse fn by passing the required variables\n",
        "    w, T_MSE, y = LR_Weights_Pseudo_Inverse(Training_X1, Training_t, l=0.03)\n",
        "\n",
        "    # the training NRMSE can be found from the training_MSE\n",
        "    # & is stored in the array\n",
        "    Training_NRMSE[i]=np.sqrt(T_MSE)/np.std(Training_t)\n",
        "\n",
        "    # weight vector w is now used to compute the target y for the validation set\n",
        "    y=Validation_X1@w\n",
        "    V_MSE=Mean_Square_Error(y,Validation_t)\n",
        "\n",
        "    # the validation NMRSE is computed and also stored in the array \n",
        "    Validation_NRMSE[i]=np.sqrt(V_MSE)/np.std(Validation_t)\n",
        "    i=i+1\n",
        "\n",
        "# now the box plot can be plotted with values from 'Training_NRMSE', 'Validation_NRMSE'\n",
        "fig, ax = plt.subplots()\n",
        "\n",
        "bp = ax.boxplot([Training_NRMSE[1:], Validation_NRMSE[1:]], labels=['Training_NRMSE', 'Validation_NRMSE'])\n",
        "\n",
        "# below the title for the box plot is set\n",
        "ax.set_title('Box Plot')\n",
        "ax.set_xlabel('NRMSE Variation with Number of Samples')\n",
        "ax.set_ylabel('Values')\n",
        "\n",
        "plt.show()\n",
        "print(Training_NRMSE[1:])\n",
        "print(Validation_NRMSE[1:])\n",
        "# it can be observed that the validtion NRMSE shows more variation compared to the Training NRMSE\n",
        "# also as the number of the samples is increased the validation NRMSE is reduced"
      ],
      "metadata": {
        "colab": {
          "base_uri": "https://localhost:8080/",
          "height": 364
        },
        "id": "tq_qIqI7xU5B",
        "outputId": "84c45d5d-0e1f-4d4f-a6d0-ce0268448ce0"
      },
      "execution_count": 89,
      "outputs": [
        {
          "output_type": "display_data",
          "data": {
            "text/plain": [
              "<Figure size 432x288 with 1 Axes>"
            ],
            "image/png": "[encoded data removed]"
          },
          "metadata": {
            "needs_background": "light"
          }
        },
        {
          "output_type": "stream",
          "name": "stdout",
          "text": [
            "[0.47182378 0.62020302 0.47386167 0.62299735 0.57169915 0.60696008\n",
            " 0.60259182 0.48115816 0.44978422 0.65171452]\n",
            "[1.01927309 0.53413138 0.50957431 0.75090571 0.60294769 0.93426448\n",
            " 0.93924726 0.57854379 0.59241897 0.70467722]\n"
          ]
        }
      ]
    },
    {
      "cell_type": "code",
      "source": [
        "# UPDATED FOR MULTIPLE PLOTS\n",
        "\n",
        "# a) we begin by creating empty arrays to store results for the Box Plots\n",
        "Training_NRMSE = []\n",
        "Validation_NRMSE = []\n",
        "i=50\n",
        "while(i<300):\n",
        "  j=0\n",
        "  temp_train_nrmse=[]\n",
        "  temp_val_nrmse=[]\n",
        "  while(j<5):\n",
        "        np.random.seed(21+j)\n",
        "        # generate random training data from previously defined functions\n",
        "        Training_X = Random_Data_Matrix(i,9)\n",
        "        w = np.random.normal(0,1,Training_X.shape[1])\n",
        "        Training_t = Target(Training_X, w, w0=0.5, Var=0.4)\n",
        "        x0=np.ones(Training_X.shape[0])\n",
        "        Training_X1 = np.column_stack((x0, Training_X))\n",
        "        \n",
        "        # similarly generate validation data from previously defined functions\n",
        "        Validation_X = Random_Data_Matrix(i//5,9)\n",
        "        #w = np.random.normal(0,1,Validation_X.shape[1])\n",
        "        Validation_t = Target(Validation_X, w, w0=0.05, Var=0.14)\n",
        "        x0=np.ones(Validation_X.shape[0])\n",
        "        Validation_X1 = np.column_stack((x0, Validation_X))\n",
        "\n",
        "        # in both training & validation the number of samples is a function of i\n",
        "\n",
        "        # now we call the pseudo inverse fn by passing the required variables\n",
        "        w, T_MSE, y = LR_Weights_Pseudo_Inverse(Training_X1, Training_t, l=0.03)\n",
        "\n",
        "        # the training NRMSE can be found from the training_MSE\n",
        "        # & is stored in the array\n",
        "        temp_train_nrmse.append(np.sqrt(T_MSE)/np.std(Training_t))\n",
        "        \n",
        "        #Training_NRMSE[i]=np.sqrt(T_MSE)/np.std(Training_t)\n",
        "\n",
        "        # weight vector w is now used to compute the target y for the validation set\n",
        "        y=Validation_X1@w\n",
        "        V_MSE=Mean_Square_Error(y,Validation_t)\n",
        "\n",
        "        # the validation NMRSE is computed and also stored in the array \n",
        "        temp_val_nrmse.append(np.sqrt(V_MSE)/np.std(Validation_t))\n",
        "        \n",
        "        #Validation_NRMSE[i]=np.sqrt(V_MSE)/np.std(Validation_t)\n",
        "\n",
        "        j=j+1\n",
        "  Training_NRMSE.append(temp_train_nrmse)\n",
        "  #print(Training_NRMSE)\n",
        "  Validation_NRMSE.append(temp_val_nrmse)\n",
        "\n",
        "  i=i+50\n",
        "fig, (ax1, ax2, ax3, ax4, ax5) = plt.subplots(1, 5, figsize=(25, 5))\n",
        "\n",
        "  # create a box plot with the values in the 'Training_NRMSE', 'Validation_NRMSE' lists\n",
        "bp = ax1.boxplot([Training_NRMSE[0], Validation_NRMSE[0]], labels=['Training_NRMSE', 'Validation_NRMSE'])\n",
        "ax1.set_title('NRMSE Variation with 50 Samples')\n",
        "ax1.set_ylabel('Values')\n",
        "\n",
        "bp = ax2.boxplot([Training_NRMSE[1], Validation_NRMSE[1]], labels=['Training_NRMSE', 'Validation_NRMSE'])\n",
        "ax2.set_title('NRMSE Variation with 100 Samples')\n",
        "ax2.set_ylabel('Values')\n",
        "\n",
        "bp = ax3.boxplot([Training_NRMSE[2], Validation_NRMSE[2]], labels=['Training_NRMSE', 'Validation_NRMSE'])\n",
        "ax3.set_title('NRMSE Variation with 150 Samples')\n",
        "ax3.set_ylabel('Values')\n",
        "\n",
        "bp = ax4.boxplot([Training_NRMSE[3], Validation_NRMSE[3]], labels=['Training_NRMSE', 'Validation_NRMSE'])\n",
        "ax4.set_title('NRMSE Variation with 200 Samples')\n",
        "ax4.set_ylabel('Values')\n",
        "\n",
        "bp = ax5.boxplot([Training_NRMSE[4], Validation_NRMSE[4]], labels=['Training_NRMSE', 'Validation_NRMSE'])\n",
        "ax5.set_title('NRMSE Variation with 250 Samples')\n",
        "ax5.set_ylabel('Values')\n",
        "\n",
        "# show the plots & lists of data\n",
        "plt.show()\n",
        "print(Training_NRMSE)\n",
        "print(Validation_NRMSE)\n",
        "# it can be observed that the validtion NRMSE shows more variation compared to the Training NRMSE"
      ],
      "metadata": {
        "colab": {
          "base_uri": "https://localhost:8080/",
          "height": 361
        },
        "id": "enTcgR4tKrWb",
        "outputId": "f35bddf2-d72f-4867-8d0a-afcb35022f9a"
      },
      "execution_count": 90,
      "outputs": [
        {
          "output_type": "display_data",
          "data": {
            "text/plain": [
              "<Figure size 1800x360 with 5 Axes>"
            ],
            "image/png": "[encoded data removed]"
          },
          "metadata": {
            "needs_background": "light"
          }
        },
        {
          "output_type": "stream",
          "name": "stdout",
          "text": [
            "[[0.5395845661344929, 0.6138948129745745, 0.6136005958325242, 0.4428358865957787, 0.3996651414493778], [0.45277872353343546, 0.6292993979002681, 0.5088099343602533, 0.5955823476541231, 0.5716991546992737], [0.50381648597569, 0.5201997852397005, 0.5586465777587059, 0.46900895496271805, 0.5334813153095656], [0.6977954484767739, 0.6265495013787494, 0.5687226133986291, 0.49576054649222984, 0.5056331962191165], [0.42890396983582046, 0.5143818365201357, 0.8217073813023646, 0.4357294998622166, 0.5749505636607974]]\n",
            "[[1.8620454787155607, 1.2233501869405203, 2.129842004587507, 0.8606858336964637, 0.5878823235360825], [1.0344277620581739, 0.5680942251084815, 0.6429559778623292, 1.112761908265844, 0.7898515446857957], [0.6889844361951688, 0.5831443255773369, 0.6204489719812268, 0.4835370195456946, 0.7248673807653101], [0.8305769622572765, 0.6489615195450142, 0.8589019009756851, 0.5327768186611617, 0.5517999234407697], [0.5926774030151436, 0.5947207801956894, 1.0811831441573887, 0.4618592832680474, 0.733921695398957]]\n"
          ]
        }
      ]
    },
    {
      "cell_type": "markdown",
      "source": [
        "b) Training and validation NRMSE obtained using pseudo inverse with number of variables [2]"
      ],
      "metadata": {
        "id": "pJgzCpBX7hkU"
      }
    },
    {
      "cell_type": "code",
      "source": [
        "# we begin by creating empty arrays to store results for the Box Plots\n",
        "Training_NRMSE = np.empty(11)\n",
        "Validation_NRMSE = np.empty(11)\n",
        "i=1\n",
        "while(i<11):\n",
        "    # setting a new random seed for every iteration \n",
        "    np.random.seed(5*i)\n",
        "\n",
        "    # generate random training data from previously defined functions    \n",
        "    Training_X = Random_Data_Matrix(100,i)\n",
        "    w = np.random.normal(0,1,Training_X.shape[1])\n",
        "    Training_t = Target(Training_X, w, w0=0.5, Var=0.4)\n",
        "    x0=np.ones(Training_X.shape[0])\n",
        "    Training_X1 = np.column_stack((x0, Training_X))\n",
        "\n",
        "    # similarly generate validation data from previously defined functions\n",
        "    Validation_X = Random_Data_Matrix(10,i)\n",
        "    #w = np.random.normal(0,1,Validation_X.shape[1])\n",
        "    Validation_t = Target(Validation_X, w, w0=0.5, Var=0.4)\n",
        "    x0=np.ones(Validation_X.shape[0])\n",
        "    Validation_X1 = np.column_stack((x0, Validation_X))\n",
        "    \n",
        "    # in both training & validation the number of Variables is a function of i\n",
        "    # now we call the pseudo inverse fn by passing the required variables\n",
        "    w, T_MSE, y = LR_Weights_Pseudo_Inverse(Training_X1, Training_t, l=0.3)\n",
        "    \n",
        "    Training_NRMSE[i]=np.sqrt(T_MSE)/np.std(Training_t)\n",
        "    # the training NRMSE can be found from the training_MSE\n",
        "    # & is stored in the array\n",
        "    \n",
        "    # weight vector w is now used to compute the target y for the validation set\n",
        "    y=Validation_X1@w\n",
        "    V_MSE=Mean_Square_Error(y,Validation_t)\n",
        "\n",
        "    # the validation NMRSE is computed and also stored in the array \n",
        "    Validation_NRMSE[i]=np.sqrt(V_MSE)/np.std(Validation_t)\n",
        "    i=i+1\n",
        "\n",
        "\n",
        "# now the box plot can be plotted with values from 'Training_NRMSE', 'Validation_NRMSE'\n",
        "fig, ax = plt.subplots()\n",
        "\n",
        "bp = ax.boxplot([Training_NRMSE[1:], Validation_NRMSE[1:]], labels=['Training_NRMSE', 'Validation_NRMSE'])\n",
        "\n",
        "# below the title for the box plot is set\n",
        "ax.set_title('Box Plot')\n",
        "ax.set_xlabel('NRMSE Variation with Number of Variables')\n",
        "ax.set_ylabel('Values')\n",
        "\n",
        "plt.show()\n",
        "print(Training_NRMSE[1:])\n",
        "print(Validation_NRMSE[1:])\n",
        "# it can be observed that the validtion NRMSE shows more variation compared to the Training NRMSE\n",
        "# also as the number of the variables is increased the validation NRMSE is reduced"
      ],
      "metadata": {
        "colab": {
          "base_uri": "https://localhost:8080/",
          "height": 364
        },
        "id": "JFI6HQjn7cZo",
        "outputId": "80a8e7e7-8ae4-4e1c-ebfc-8e883dc8712c"
      },
      "execution_count": 91,
      "outputs": [
        {
          "output_type": "display_data",
          "data": {
            "text/plain": [
              "<Figure size 432x288 with 1 Axes>"
            ],
            "image/png": "[encoded data removed]"
          },
          "metadata": {
            "needs_background": "light"
          }
        },
        {
          "output_type": "stream",
          "name": "stdout",
          "text": [
            "[0.78067577 0.92082142 0.72603114 0.60437487 0.84313789 0.58685916\n",
            " 0.56165464 0.39869418 0.59042268 0.67328868]\n",
            "[1.05269717 0.90630738 0.83552374 0.55106822 0.88480283 0.67828311\n",
            " 0.9871781  0.51403437 0.54287502 1.03292987]\n"
          ]
        }
      ]
    },
    {
      "cell_type": "code",
      "source": [
        "# UPDATED FOR MULTIPLE PLOTS\n",
        "\n",
        "# we begin by creating empty arrays to store results for the Box Plots\n",
        "Training_NRMSE = []\n",
        "Validation_NRMSE = []\n",
        "i=5 #features\n",
        "while(i<30):  # upto 25 features\n",
        "  j=0\n",
        "  temp_train_nrmse=[]\n",
        "  temp_val_nrmse=[]\n",
        "  while(j<5):\n",
        "    np.random.seed(21+j)\n",
        "    # generate random training data from previously defined functions    \n",
        "    Training_X = Random_Data_Matrix(100,i)\n",
        "    w = np.random.normal(0,1,Training_X.shape[1])\n",
        "    Training_t = Target(Training_X, w, w0=0.5, Var=0.4)\n",
        "    x0=np.ones(Training_X.shape[0])\n",
        "    Training_X1 = np.column_stack((x0, Training_X))\n",
        "\n",
        "    # similarly generate validation data from previously defined functions\n",
        "    Validation_X = Random_Data_Matrix(10,i)\n",
        "    #w = np.random.normal(0,1,Validation_X.shape[1])\n",
        "    Validation_t = Target(Validation_X, w, w0=0.5, Var=0.4)\n",
        "    x0=np.ones(Validation_X.shape[0])\n",
        "    Validation_X1 = np.column_stack((x0, Validation_X))\n",
        "    \n",
        "    # in both training & validation the number of Variables is a function of i\n",
        "    # now we call the pseudo inverse fn by passing the required variables\n",
        "    w, T_MSE, y = LR_Weights_Pseudo_Inverse(Training_X1, Training_t, l=0.3)\n",
        "    \n",
        "    temp_train_nrmse.append(np.sqrt(T_MSE)/np.std(Training_t))\n",
        "    \n",
        "    #Training_NRMSE[i]=np.sqrt(T_MSE)/np.std(Training_t)\n",
        "    # the training NRMSE can be found from the training_MSE\n",
        "    # & is stored in the array\n",
        "    \n",
        "    # weight vector w is now used to compute the target y for the validation set\n",
        "    y=Validation_X1@w\n",
        "    V_MSE=Mean_Square_Error(y,Validation_t)\n",
        "\n",
        "    # the validation NMRSE is computed and also stored in the array \n",
        "    temp_val_nrmse.append(np.sqrt(V_MSE)/np.std(Validation_t))\n",
        "    #Validation_NRMSE[i]=np.sqrt(V_MSE)/np.std(Validation_t)\n",
        "    j=j+1\n",
        "  Training_NRMSE.append(temp_train_nrmse)\n",
        "  #print(Training_NRMSE)\n",
        "  Validation_NRMSE.append(temp_val_nrmse)\n",
        "  i=i+5\n",
        "# now the box plot can be plotted with values from 'Training_NRMSE', 'Validation_NRMSE'\n",
        "fig, (ax1, ax2, ax3, ax4, ax5) = plt.subplots(1, 5, figsize=(25, 5))\n",
        "\n",
        "  # create a box plot with the values in the 'Training_NRMSE', 'Validation_NRMSE' lists\n",
        "bp = ax1.boxplot([Training_NRMSE[0], Validation_NRMSE[0]], labels=['Training_NRMSE', 'Validation_NRMSE'])\n",
        "ax1.set_title('NRMSE Variation with 5 Variables')\n",
        "ax1.set_ylabel('Values')\n",
        "\n",
        "bp = ax2.boxplot([Training_NRMSE[1], Validation_NRMSE[1]], labels=['Training_NRMSE', 'Validation_NRMSE'])\n",
        "ax2.set_title('NRMSE Variation with 10 Variables')\n",
        "ax2.set_ylabel('Values')\n",
        "\n",
        "bp = ax3.boxplot([Training_NRMSE[2], Validation_NRMSE[2]], labels=['Training_NRMSE', 'Validation_NRMSE'])\n",
        "ax3.set_title('NRMSE Variation with 15 Variables')\n",
        "ax3.set_ylabel('Values')\n",
        "\n",
        "bp = ax4.boxplot([Training_NRMSE[3], Validation_NRMSE[3]], labels=['Training_NRMSE', 'Validation_NRMSE'])\n",
        "ax4.set_title('NRMSE Variation with 20 Variables')\n",
        "ax4.set_ylabel('Values')\n",
        "\n",
        "bp = ax5.boxplot([Training_NRMSE[4], Validation_NRMSE[4]], labels=['Training_NRMSE', 'Validation_NRMSE'])\n",
        "ax5.set_title('NRMSE Variation with 25 Variables')\n",
        "ax5.set_ylabel('Values')\n",
        "\n",
        "# show the plots & lists of data\n",
        "plt.show()\n",
        "print(Training_NRMSE)\n",
        "print(Validation_NRMSE)\n",
        "# it can be observed that the validtion NRMSE shows more variation compared to the Training NRMSE\n"
      ],
      "metadata": {
        "colab": {
          "base_uri": "https://localhost:8080/",
          "height": 363
        },
        "id": "IkFkfOekK_7P",
        "outputId": "6ef484b4-95b2-4b98-a315-564caed32823"
      },
      "execution_count": 92,
      "outputs": [
        {
          "output_type": "display_data",
          "data": {
            "text/plain": [
              "<Figure size 1800x360 with 5 Axes>"
            ],
            "image/png": "[encoded data removed]"
          },
          "metadata": {
            "needs_background": "light"
          }
        },
        {
          "output_type": "stream",
          "name": "stdout",
          "text": [
            "[[0.9121144244764671, 0.8808114991546511, 0.5853044327384821, 0.8481584831665477, 0.8431378854567925], [0.7200391507596812, 0.5679409313681589, 0.5761018497505942, 0.5249705926352293, 0.6353782076918025], [0.44619595490719294, 0.3616857317895552, 0.3330785277145968, 0.4276246682249063, 0.5005156543933991], [0.3706132633126197, 0.3651736520417574, 0.3807098198306164, 0.4487652659532012, 0.39143829517519274], [0.3620296650434865, 0.42917678396656467, 0.26114612880054466, 0.28858659562301975, 0.44669282558335666]]\n",
            "[[1.0535462420902515, 1.1695861408960597, 0.5174342634762279, 0.8293962499160847, 0.8848028333588581], [0.5842418947740292, 0.827828979070707, 0.5987121176448486, 0.6775031197222043, 0.6677502272751291], [0.657798228574319, 0.5916808017407719, 0.8161689469448843, 0.45747269969552934, 0.6925069270681238], [0.47875565116721686, 0.8956296214651388, 0.5892223236137251, 0.45170228545732644, 0.531893126273008], [0.3119324859413496, 0.919097799390786, 0.26737750710208535, 0.4999379102447736, 1.7373908632699173]]\n"
          ]
        }
      ]
    },
    {
      "cell_type": "markdown",
      "source": [
        "c) Training and validation NRMSE obtained using pseudo inverse with noise variance "
      ],
      "metadata": {
        "id": "FXuMl-uoBcmb"
      }
    },
    {
      "cell_type": "code",
      "source": [
        "# we begin by creating empty arrays to store results for the Box Plots\n",
        "Training_NRMSE = np.empty(11)\n",
        "Validation_NRMSE = np.empty(11)\n",
        "i=1\n",
        "while(i<11):\n",
        "    # setting a new random seed for every iteration \n",
        "    np.random.seed(5*i)\n",
        "    \n",
        "    # generate random training data from previously defined functions    \n",
        "    Training_X = Random_Data_Matrix(100,9)\n",
        "    w = np.random.normal(0,1,Training_X.shape[1])\n",
        "    Training_t = Target(Training_X, w, w0=0.5, Var=0.1*i)\n",
        "    x0=np.ones(Training_X.shape[0])\n",
        "    Training_X1=np.column_stack((x0, Training_X))\n",
        "\n",
        "    # similarly generate validation data from previously defined functions\n",
        "    Validation_X = Random_Data_Matrix(10,9)\n",
        "    #w = np.random.normal(0,1,Validation_X.shape[1])\n",
        "    Validation_t = Target(Validation_X, w, w0=0.5, Var=0.1*i)\n",
        "    x0=np.ones(Validation_X.shape[0])\n",
        "    Validation_X1 = np.column_stack((x0, Validation_X))\n",
        "    # in both training & validation noise variance is a function of i\n",
        "    w, T_MSE, y = LR_Weights_Pseudo_Inverse(Training_X1, Training_t, l=0.3)\n",
        "    # now we call the pseudo inverse fn by passing the required variables\n",
        "    # the training NRMSE can be found from the training_MSE\n",
        "    # & is stored in the array    \n",
        "    Training_NRMSE[i]=np.sqrt(T_MSE)/np.std(Training_t)\n",
        "    # weight vector w is now used to compute the target y for the validation set\n",
        "    y=Validation_X1@w\n",
        "    # the validation NMRSE is computed and also stored in the array \n",
        "    V_MSE=Mean_Square_Error(y,Validation_t)\n",
        "\n",
        "    Validation_NRMSE[i]=np.sqrt(V_MSE)/np.std(Validation_t)\n",
        "    i=i+1\n",
        "\n",
        "fig, ax = plt.subplots()\n",
        "\n",
        "# now the box plot can be plotted with values from 'Training_NRMSE', 'Validation_NRMSE'\n",
        "bp = ax.boxplot([Training_NRMSE[1:], Validation_NRMSE[1:]], labels=['Training_NRMSE', 'Validation_NRMSE'])\n",
        "\n",
        "# below the title for the box plot is set    \n",
        "ax.set_title('Box Plot')\n",
        "ax.set_xlabel('NRMSE Variation with Different Noise Variance')\n",
        "ax.set_ylabel('Values')\n",
        "\n",
        "plt.show()\n",
        "print(Training_NRMSE[1:])\n",
        "print(Validation_NRMSE[1:])\n",
        "# it can be observed that the validtion NRMSE shows more variation compared to the Training NRMSE\n",
        "# also as the variance of noise is increased the validation NRMSE is reduced"
      ],
      "metadata": {
        "colab": {
          "base_uri": "https://localhost:8080/",
          "height": 364
        },
        "id": "_vwM4vyuBngD",
        "outputId": "b530ad89-2e58-499a-b96a-282a7a884a17"
      },
      "execution_count": 93,
      "outputs": [
        {
          "output_type": "display_data",
          "data": {
            "text/plain": [
              "<Figure size 432x288 with 1 Axes>"
            ],
            "image/png": "[encoded data removed]"
          },
          "metadata": {
            "needs_background": "light"
          }
        },
        {
          "output_type": "stream",
          "name": "stdout",
          "text": [
            "[0.45227876 0.49328162 0.47349473 0.67915066 0.61321213 0.5890865\n",
            " 0.65241683 0.74217692 0.72400606 0.71040867]\n",
            "[0.50199912 0.33249813 0.70065783 0.74586938 0.56359973 1.20841407\n",
            " 0.83537005 1.07898997 0.8079923  0.58161824]\n"
          ]
        }
      ]
    },
    {
      "cell_type": "code",
      "source": [
        "#UPDATED FOR MULTIPLE PLOTS\n",
        "\n",
        "# we begin by creating empty arrays to store results for the Box Plots\n",
        "Training_NRMSE = []\n",
        "Validation_NRMSE = []\n",
        "i=2 #\n",
        "while(i<11):  \n",
        "  j=0\n",
        "  temp_train_nrmse=[]\n",
        "  temp_val_nrmse=[]\n",
        "  while(j<5):\n",
        "    np.random.seed(21+j)\n",
        "    # generate random training data from previously defined functions    \n",
        "    Training_X = Random_Data_Matrix(100,9)\n",
        "    w = np.random.normal(0,1,Training_X.shape[1])\n",
        "    Training_t = Target(Training_X, w, w0=0.5, Var=0.1*i)\n",
        "    x0=np.ones(Training_X.shape[0])\n",
        "    Training_X1=np.column_stack((x0, Training_X))\n",
        "\n",
        "    # similarly generate validation data from previously defined functions\n",
        "    Validation_X = Random_Data_Matrix(10,9)\n",
        "    #w = np.random.normal(0,1,Validation_X.shape[1])\n",
        "    Validation_t = Target(Validation_X, w, w0=0.5, Var=0.1*i)\n",
        "    x0=np.ones(Validation_X.shape[0])\n",
        "    Validation_X1 = np.column_stack((x0, Validation_X))\n",
        "    # in both training & validation noise variance is a function of i\n",
        "    w, T_MSE, y = LR_Weights_Pseudo_Inverse(Training_X1, Training_t, l=0.3)\n",
        "    # now we call the pseudo inverse fn by passing the required variables\n",
        "    # the training NRMSE can be found from the training_MSE\n",
        "    # & is stored in the array    \n",
        "    \n",
        "    temp_train_nrmse.append(np.sqrt(T_MSE)/np.std(Training_t))\n",
        "    #Training_NRMSE[i]=np.sqrt(T_MSE)/np.std(Training_t)\n",
        "    # weight vector w is now used to compute the target y for the validation set\n",
        "    y=Validation_X1@w\n",
        "    # the validation NMRSE is computed and also stored in the array \n",
        "    V_MSE=Mean_Square_Error(y,Validation_t)\n",
        "\n",
        "    temp_val_nrmse.append(np.sqrt(V_MSE)/np.std(Validation_t))\n",
        "    #Validation_NRMSE[i]=np.sqrt(V_MSE)/np.std(Validation_t)\n",
        "    j=j+1\n",
        "  Training_NRMSE.append(temp_train_nrmse)\n",
        "  #print(Training_NRMSE)\n",
        "  Validation_NRMSE.append(temp_val_nrmse)\n",
        "  i=i+2\n",
        "# now the box plot can be plotted with values from 'Training_NRMSE', 'Validation_NRMSE'\n",
        "fig, (ax1, ax2, ax3, ax4, ax5) = plt.subplots(1, 5, figsize=(25, 5))\n",
        "\n",
        "# create a box plot with the values in the 'Training_NRMSE', 'Validation_NRMSE' lists\n",
        "bp = ax1.boxplot([Training_NRMSE[0], Validation_NRMSE[0]], labels=['Training_NRMSE', 'Validation_NRMSE'])\n",
        "ax1.set_title('NRMSE Variation with 0.2 Noise Variance')\n",
        "ax1.set_ylabel('Values')\n",
        "\n",
        "bp = ax2.boxplot([Training_NRMSE[1], Validation_NRMSE[1]], labels=['Training_NRMSE', 'Validation_NRMSE'])\n",
        "ax2.set_title('NRMSE Variation with 0.4 Noise Variance')\n",
        "ax2.set_ylabel('Values')\n",
        "\n",
        "bp = ax3.boxplot([Training_NRMSE[2], Validation_NRMSE[2]], labels=['Training_NRMSE', 'Validation_NRMSE'])\n",
        "ax3.set_title('NRMSE Variation with 0.6 Noise Variance')\n",
        "ax3.set_ylabel('Values')\n",
        "\n",
        "bp = ax4.boxplot([Training_NRMSE[3], Validation_NRMSE[3]], labels=['Training_NRMSE', 'Validation_NRMSE'])\n",
        "ax4.set_title('NRMSE Variation with 0.8 Noise Variance')\n",
        "ax4.set_ylabel('Values')\n",
        "\n",
        "bp = ax5.boxplot([Training_NRMSE[4], Validation_NRMSE[4]], labels=['Training_NRMSE', 'Validation_NRMSE'])\n",
        "ax5.set_title('NRMSE Variation with 1.0 Noise Variance')\n",
        "ax5.set_ylabel('Values')\n",
        "\n",
        "# show the plots & lists of data\n",
        "plt.show()\n",
        "print(Training_NRMSE)\n",
        "print(Validation_NRMSE)\n",
        "# it can be observed that the validtion NRMSE shows more variation compared to the Training NRMSE\n",
        "# also as the value of lambda2 is increased, the number of nearly zero weights also increases"
      ],
      "metadata": {
        "colab": {
          "base_uri": "https://localhost:8080/",
          "height": 362
        },
        "id": "2XZuIY0tLeWB",
        "outputId": "b23bea09-ea6e-486e-902e-f42d5e3cf2d6"
      },
      "execution_count": 94,
      "outputs": [
        {
          "output_type": "display_data",
          "data": {
            "text/plain": [
              "<Figure size 1800x360 with 5 Axes>"
            ],
            "image/png": "[encoded data removed]"
          },
          "metadata": {
            "needs_background": "light"
          }
        },
        {
          "output_type": "stream",
          "name": "stdout",
          "text": [
            "[[0.34991211825232066, 0.5016942146224334, 0.3996414445088005, 0.47608131527475867, 0.44771835908597113], [0.4542006879315715, 0.6298326491994315, 0.5099576648600446, 0.596221462612538, 0.572667663801679], [0.5193629026302349, 0.7012651225033022, 0.5755802615253824, 0.6624365221730967, 0.6456300502691916], [0.5656081625590196, 0.7477206704483723, 0.6204810595232886, 0.7051020529241286, 0.6945402721156426], [0.6006873071520468, 0.7805844780160408, 0.6535780752210338, 0.7350543990842562, 0.729887244105404]]\n",
            "[[0.44459547032806657, 0.7972602440080326, 0.7943269217302166, 0.4501655543822754, 0.43016321224070286], [0.6152611598258244, 0.911593520980289, 1.0291094384605353, 0.5421271685171023, 0.5312847779570357], [0.7293753327054106, 0.96304874690887, 1.155365537571602, 0.5963557440904019, 0.589439905021898], [0.8124603120044166, 0.9926663862562038, 1.2318553877360576, 0.63420820801219, 0.6286767082517886], [0.875688396380449, 1.0120270667244058, 1.281697234249295, 0.6629203827126925, 0.6574481852526753]]\n"
          ]
        }
      ]
    },
    {
      "cell_type": "markdown",
      "source": [
        "d) Training and validation NRMSE obtained using pseudo inverse with w0"
      ],
      "metadata": {
        "id": "ccm_5a87FrPJ"
      }
    },
    {
      "cell_type": "code",
      "source": [
        "# we begin by creating empty arrays to store results for the Box Plots\n",
        "Training_NRMSE = np.empty(11)\n",
        "Validation_NRMSE = np.empty(11)\n",
        "i=1\n",
        "while(i<11):\n",
        "    # setting a new random seed for every iteration     \n",
        "    np.random.seed(5*i)\n",
        "    # generate random training data from previously defined functions    \n",
        "    Training_X = Random_Data_Matrix(100,9)\n",
        "    w = np.random.normal(0,1,Training_X.shape[1])\n",
        "    Training_t = Target(Training_X, w, w0=5*i, Var=0.04)\n",
        "    x0=np.ones(Training_X.shape[0])\n",
        "    Training_X1=np.column_stack((x0, Training_X))\n",
        "    # similarly generate validation data from previously defined functions\n",
        "    Validation_X = Random_Data_Matrix(10,9)\n",
        "    #w = np.random.normal(0,1,Validation_X.shape[1])\n",
        "    Validation_t = Target(Validation_X, w, w0=5*i, Var=0.04)\n",
        "    x0=np.ones(Validation_X.shape[0])\n",
        "    Validation_X1 = np.column_stack((x0, Validation_X))\n",
        "    # in both training & validation the bias w0 is a function of i\n",
        "    w, T_MSE, y = LR_Weights_Pseudo_Inverse(Training_X1, Training_t, l=0.3)\n",
        "    # now we call the pseudo inverse fn by passing the required variables\n",
        "    Training_NRMSE[i]=np.sqrt(T_MSE)/np.std(Training_t)\n",
        "    # the training NRMSE can be found from the training_MSE\n",
        "    # & is stored in the array    \n",
        "    y=Validation_X1@w\n",
        "    # weight vector w is now used to compute the target y for the validation set\n",
        "    # the validation NMRSE is computed and also stored in the array \n",
        "    V_MSE=Mean_Square_Error(y,Validation_t)\n",
        "\n",
        "    Validation_NRMSE[i]=np.sqrt(V_MSE)/np.std(Validation_t)\n",
        "    i=i+1\n",
        "\n",
        "fig, ax = plt.subplots()\n",
        "\n",
        "# now the box plot can be plotted with values from 'Training_NRMSE', 'Validation_NRMSE'\n",
        "bp = ax.boxplot([Training_NRMSE[1:], Validation_NRMSE[1:]], labels=['Training_NRMSE', 'Validation_NRMSE'])\n",
        "\n",
        "# below the title for the box plot is set\n",
        "ax.set_title('Box Plot')\n",
        "ax.set_xlabel('NRMSE Variation with Different Bias')\n",
        "ax.set_ylabel('Values')\n",
        "\n",
        "plt.show()\n",
        "print(Training_NRMSE[1:])\n",
        "print(Validation_NRMSE[1:])\n",
        "# it can be observed that the validtion NRMSE shows more variation compared to the Training NRMSE"
      ],
      "metadata": {
        "colab": {
          "base_uri": "https://localhost:8080/",
          "height": 364
        },
        "id": "5cIrU0o_FyC4",
        "outputId": "f1cb9881-dc7c-4ede-cd4e-732cf12ad63e"
      },
      "execution_count": 95,
      "outputs": [
        {
          "output_type": "display_data",
          "data": {
            "text/plain": [
              "<Figure size 432x288 with 1 Axes>"
            ],
            "image/png": "[encoded data removed]"
          },
          "metadata": {
            "needs_background": "light"
          }
        },
        {
          "output_type": "stream",
          "name": "stdout",
          "text": [
            "[0.31392549 0.31363868 0.31738602 0.54794972 0.44060789 0.60297255\n",
            " 0.67097415 0.96338965 0.7713565  0.81424965]\n",
            "[0.34560174 0.15751488 0.50061562 0.9459451  0.3081829  0.92099697\n",
            " 1.66090033 1.7183784  0.72465583 0.63916083]\n"
          ]
        }
      ]
    },
    {
      "cell_type": "code",
      "source": [
        "# UPDATED for multiple plots\n",
        "\n",
        "# we begin by creating empty arrays to store results for the Box Plots\n",
        "Training_NRMSE = []\n",
        "Validation_NRMSE = []\n",
        "i=1 #\n",
        "while(i<6):  \n",
        "  j=0\n",
        "  temp_train_nrmse=[]\n",
        "  temp_val_nrmse=[]\n",
        "  while(j<5):\n",
        "    np.random.seed(21+j)\n",
        "    # generate random training data from previously defined functions    \n",
        "    Training_X = Random_Data_Matrix(100,9)\n",
        "    w = np.random.normal(0,1,Training_X.shape[1])\n",
        "    Training_t = Target(Training_X, w, w0=0.5*i, Var=0.4)\n",
        "    x0=np.ones(Training_X.shape[0])\n",
        "    Training_X1=np.column_stack((x0, Training_X))\n",
        "    # similarly generate validation data from previously defined functions\n",
        "    Validation_X = Random_Data_Matrix(10,9)\n",
        "    #w = np.random.normal(0,1,Validation_X.shape[1])\n",
        "    Validation_t = Target(Validation_X, w, w0=0.5*i, Var=0.4)\n",
        "    x0=np.ones(Validation_X.shape[0])\n",
        "    Validation_X1 = np.column_stack((x0, Validation_X))\n",
        "    # in both training & validation the bias w0 is a function of i\n",
        "    w, T_MSE, y = LR_Weights_Pseudo_Inverse(Training_X1, Training_t, l=0.3)\n",
        "    # now we call the pseudo inverse fn by passing the required variables\n",
        "    \n",
        "    temp_train_nrmse.append(np.sqrt(T_MSE)/np.std(Training_t))\n",
        "    #Training_NRMSE[i]=np.sqrt(T_MSE)/np.std(Training_t)\n",
        "    # weight vector w is now used to compute the target y for the validation set\n",
        "    y=Validation_X1@w\n",
        "    # the validation NMRSE is computed and also stored in the array \n",
        "    V_MSE=Mean_Square_Error(y,Validation_t)\n",
        "\n",
        "    temp_val_nrmse.append(np.sqrt(V_MSE)/np.std(Validation_t))\n",
        "    #Validation_NRMSE[i]=np.sqrt(V_MSE)/np.std(Validation_t)\n",
        "    j=j+1\n",
        "  Training_NRMSE.append(temp_train_nrmse)\n",
        "  #print(Training_NRMSE)\n",
        "  Validation_NRMSE.append(temp_val_nrmse)\n",
        "  i=i+1\n",
        "# now the box plot can be plotted with values from 'Training_NRMSE', 'Validation_NRMSE'\n",
        "fig, (ax1, ax2, ax3, ax4, ax5) = plt.subplots(1, 5, figsize=(25, 5))\n",
        "\n",
        "# create a box plot with the values in the 'Training_NRMSE', 'Validation_NRMSE' lists\n",
        "bp = ax1.boxplot([Training_NRMSE[0], Validation_NRMSE[0]], labels=['Training_NRMSE', 'Validation_NRMSE'])\n",
        "ax1.set_title('NRMSE Variation with bias w0=0.5 ')\n",
        "ax1.set_ylabel('Values')\n",
        "\n",
        "bp = ax2.boxplot([Training_NRMSE[1], Validation_NRMSE[1]], labels=['Training_NRMSE', 'Validation_NRMSE'])\n",
        "ax2.set_title('NRMSE Variation with bias w0=1.0')\n",
        "ax2.set_ylabel('Values')\n",
        "\n",
        "bp = ax3.boxplot([Training_NRMSE[2], Validation_NRMSE[2]], labels=['Training_NRMSE', 'Validation_NRMSE'])\n",
        "ax3.set_title('NRMSE Variation with bias w0=1.5')\n",
        "ax3.set_ylabel('Values')\n",
        "\n",
        "bp = ax4.boxplot([Training_NRMSE[3], Validation_NRMSE[3]], labels=['Training_NRMSE', 'Validation_NRMSE'])\n",
        "ax4.set_title('NRMSE Variation with bias w0=2.0')\n",
        "ax4.set_ylabel('Values')\n",
        "\n",
        "bp = ax5.boxplot([Training_NRMSE[4], Validation_NRMSE[4]], labels=['Training_NRMSE', 'Validation_NRMSE'])\n",
        "ax5.set_title('NRMSE Variation with bias w0=2.5')\n",
        "ax5.set_ylabel('Values')\n",
        "\n",
        "# show the plots & lists of data\n",
        "plt.show()\n",
        "print(Training_NRMSE)\n",
        "print(Validation_NRMSE)\n",
        "# it can be observed that the validtion NRMSE shows more variation compared to the Training NRMSE"
      ],
      "metadata": {
        "colab": {
          "base_uri": "https://localhost:8080/",
          "height": 363
        },
        "id": "_htGEx3vL9a8",
        "outputId": "591a285b-9236-47bf-9e01-c3c0af0b40f0"
      },
      "execution_count": 96,
      "outputs": [
        {
          "output_type": "display_data",
          "data": {
            "text/plain": [
              "<Figure size 1800x360 with 5 Axes>"
            ],
            "image/png": "[encoded data removed]"
          },
          "metadata": {
            "needs_background": "light"
          }
        },
        {
          "output_type": "stream",
          "name": "stdout",
          "text": [
            "[[0.4542006879315715, 0.6298326491994315, 0.5099576648600446, 0.596221462612538, 0.572667663801679], [0.45426460224214044, 0.6297287723391392, 0.5102485706248658, 0.5962139220631045, 0.5726666617674522], [0.4544113829107268, 0.629708086330913, 0.5106183656038061, 0.5962935202867545, 0.5727376876600969], [0.45464094967721524, 0.629770599372437, 0.5110668785502148, 0.5964602223972154, 0.5728807146894933], [0.4549531772214515, 0.6299162866936309, 0.5115939024286668, 0.5967139553926705, 0.5730956889478466]]\n",
            "[[0.6152611598258244, 0.911593520980289, 1.0291094384605353, 0.5421271685171023, 0.5312847779570357], [0.6173786386006466, 0.9085579816453999, 1.0330483733227243, 0.5394621596459525, 0.5280600919541515], [0.6195550508720137, 0.9055800993488824, 1.0371177943699816, 0.5368560259019088, 0.5248749685179165], [0.6217897777964234, 0.902660444723678, 1.0413161717993935, 0.5343096287887001, 0.5217301322283661], [0.6240821929311035, 0.8997995845784834, 1.0456419522862475, 0.531823826372284, 0.5186263159632958]]\n"
          ]
        }
      ]
    },
    {
      "cell_type": "markdown",
      "source": [
        "e) Training and validation NRMSE obtained using pseudo inverse with lambda2 "
      ],
      "metadata": {
        "id": "yEmQO01CGywe"
      }
    },
    {
      "cell_type": "code",
      "source": [
        "# we begin by creating empty arrays to store results for the Box Plots\n",
        "Training_NRMSE = np.empty(11)\n",
        "Validation_NRMSE = np.empty(11)\n",
        "i=1\n",
        "while(i<11):\n",
        "    # setting a new random seed for every iteration     \n",
        "    np.random.seed(5*i)\n",
        "    # generate random training data from previously defined functions    \n",
        "    Training_X = Random_Data_Matrix(100,9)\n",
        "    w = np.random.normal(0,1,Training_X.shape[1])\n",
        "    Training_t = Target(Training_X, w, w0=0.3, Var=0.4)\n",
        "    x0=np.ones(Training_X.shape[0])\n",
        "    Training_X1=np.column_stack((x0, Training_X))\n",
        "    # similarly generate validation data from previously defined functions\n",
        "    Validation_X = Random_Data_Matrix(10,9)\n",
        "    #w = np.random.normal(0,1,Validation_X.shape[1])\n",
        "    Validation_t = Target(Validation_X, w, w0=0.3, Var=0.4)\n",
        "    x0=np.ones(Validation_X.shape[0])\n",
        "    Validation_X1 = np.column_stack((x0, Validation_X))\n",
        "    # in both training & validation the regularisation rate lambda2 is a function of i\n",
        "    w, T_MSE, y = LR_Weights_Pseudo_Inverse(Training_X1, Training_t, l=0.005*i)\n",
        "    # now we call the pseudo inverse fn by passing the required variables\n",
        "    # the training NRMSE can be found from the training_MSE\n",
        "    # & is stored in the array    \n",
        "    Training_NRMSE[i]=np.sqrt(T_MSE)/np.std(Training_t)\n",
        "    # weight vector w is now used to compute the target y for the validation set\n",
        "    y=Validation_X1@w\n",
        "    V_MSE=Mean_Square_Error(y,Validation_t)\n",
        "    # the validation NMRSE is computed and also stored in the array \n",
        "    Validation_NRMSE[i]=np.sqrt(V_MSE)/np.std(Validation_t)\n",
        "    i=i+1\n",
        "\n",
        "fig, ax = plt.subplots()\n",
        "\n",
        "# now the box plot can be plotted with values from 'Training_NRMSE', 'Validation_NRMSE'\n",
        "bp = ax.boxplot([Training_NRMSE[1:], Validation_NRMSE[1:]], labels=['Training_NRMSE', 'Validation_NRMSE'])\n",
        "\n",
        "# below the title for the box plot is set\n",
        "ax.set_title('Box Plot')\n",
        "ax.set_xlabel('NRMSE Variation with Different Lambda')\n",
        "ax.set_ylabel('Values')\n",
        "\n",
        "plt.show()\n",
        "print(Training_NRMSE[1:])\n",
        "print(Validation_NRMSE[1:])\n",
        "# it can be observed that the validtion NRMSE shows more variation compared to the Training NRMSE"
      ],
      "metadata": {
        "colab": {
          "base_uri": "https://localhost:8080/",
          "height": 364
        },
        "id": "8Hb_NB9zG79z",
        "outputId": "a6e58d91-3eb7-4963-ae52-264a20f6eda0"
      },
      "execution_count": 97,
      "outputs": [
        {
          "output_type": "display_data",
          "data": {
            "text/plain": [
              "<Figure size 432x288 with 1 Axes>"
            ],
            "image/png": "[encoded data removed]"
          },
          "metadata": {
            "needs_background": "light"
          }
        },
        {
          "output_type": "stream",
          "name": "stdout",
          "text": [
            "[0.70917243 0.62448686 0.52521346 0.67875295 0.5716961  0.5178923\n",
            " 0.55627275 0.62649126 0.58954245 0.52521481]\n",
            "[0.78999706 0.43719742 0.74882115 0.73500401 0.52298289 1.00503567\n",
            " 0.78507049 1.04808826 0.56796811 0.40321096]\n"
          ]
        }
      ]
    },
    {
      "cell_type": "code",
      "source": [
        "# updated for multiple plots\n",
        "\n",
        "# we begin by creating empty arrays to store results for the Box Plots\n",
        "Training_NRMSE = []\n",
        "Validation_NRMSE = []\n",
        "i=10 #\n",
        "while(i<60):  \n",
        "  j=0\n",
        "  temp_train_nrmse=[]\n",
        "  temp_val_nrmse=[]\n",
        "  while(j<5):\n",
        "    np.random.seed(21+j)\n",
        "    # generate random training data from previously defined functions    \n",
        "    Training_X = Random_Data_Matrix(100,9)\n",
        "    w = np.random.normal(0,1,Training_X.shape[1])\n",
        "    Training_t = Target(Training_X, w, w0=0.3, Var=0.4)\n",
        "    x0=np.ones(Training_X.shape[0])\n",
        "    Training_X1=np.column_stack((x0, Training_X))\n",
        "    # similarly generate validation data from previously defined functions\n",
        "    Validation_X = Random_Data_Matrix(10,9)\n",
        "    #w = np.random.normal(0,1,Validation_X.shape[1])\n",
        "    Validation_t = Target(Validation_X, w, w0=0.3, Var=0.4)\n",
        "    x0=np.ones(Validation_X.shape[0])\n",
        "    Validation_X1 = np.column_stack((x0, Validation_X))\n",
        "    # in both training & validation the regularisation rate lambda2 is a function of i\n",
        "    w, T_MSE, y = LR_Weights_Pseudo_Inverse(Training_X1, Training_t, l=0.5*i)\n",
        "    # now we call the pseudo inverse fn by passing the required variables\n",
        "    # the training NRMSE can be found from the training_MSE\n",
        "    # & is stored in the array    \n",
        "    \n",
        "    temp_train_nrmse.append(np.sqrt(T_MSE)/np.std(Training_t))\n",
        "    #Training_NRMSE[i]=np.sqrt(T_MSE)/np.std(Training_t)\n",
        "    # weight vector w is now used to compute the target y for the validation set\n",
        "    y=Validation_X1@w\n",
        "    # the validation NMRSE is computed and also stored in the array \n",
        "    V_MSE=Mean_Square_Error(y,Validation_t)\n",
        "\n",
        "    temp_val_nrmse.append(np.sqrt(V_MSE)/np.std(Validation_t))\n",
        "    #Validation_NRMSE[i]=np.sqrt(V_MSE)/np.std(Validation_t)\n",
        "    j=j+1\n",
        "  Training_NRMSE.append(temp_train_nrmse)\n",
        "  #print(Training_NRMSE)\n",
        "  Validation_NRMSE.append(temp_val_nrmse)\n",
        "  i=i+10\n",
        "# now the box plot can be plotted with values from 'Training_NRMSE', 'Validation_NRMSE'\n",
        "fig, (ax1, ax2, ax3, ax4, ax5) = plt.subplots(1, 5, figsize=(25, 5))\n",
        "\n",
        "# create a box plot with the values in the 'Training_NRMSE', 'Validation_NRMSE' lists\n",
        "bp = ax1.boxplot([Training_NRMSE[0], Validation_NRMSE[0]], labels=['Training_NRMSE', 'Validation_NRMSE'])\n",
        "ax1.set_title('NRMSE Variation with lambda2=5')\n",
        "ax1.set_ylabel('Values')\n",
        "\n",
        "bp = ax2.boxplot([Training_NRMSE[1], Validation_NRMSE[1]], labels=['Training_NRMSE', 'Validation_NRMSE'])\n",
        "ax2.set_title('NRMSE Variation with lambda2=10')\n",
        "ax2.set_ylabel('Values')\n",
        "\n",
        "bp = ax3.boxplot([Training_NRMSE[2], Validation_NRMSE[2]], labels=['Training_NRMSE', 'Validation_NRMSE'])\n",
        "ax3.set_title('NRMSE Variation with lambda2=15')\n",
        "ax3.set_ylabel('Values')\n",
        "\n",
        "bp = ax4.boxplot([Training_NRMSE[3], Validation_NRMSE[3]], labels=['Training_NRMSE', 'Validation_NRMSE'])\n",
        "ax4.set_title('NRMSE Variation with lambda2=20')\n",
        "ax4.set_ylabel('Values')\n",
        "\n",
        "bp = ax5.boxplot([Training_NRMSE[4], Validation_NRMSE[4]], labels=['Training_NRMSE', 'Validation_NRMSE'])\n",
        "ax5.set_title('NRMSE Variation with lambda2=25')\n",
        "ax5.set_ylabel('Values')\n",
        "\n",
        "# show the plots & lists of data\n",
        "plt.show()\n",
        "print(Training_NRMSE)\n",
        "print(Validation_NRMSE)\n",
        "# it can be observed that the validtion NRMSE shows more variation compared to the Training NRMSE"
      ],
      "metadata": {
        "colab": {
          "base_uri": "https://localhost:8080/",
          "height": 361
        },
        "id": "wVPCu8mEMWeQ",
        "outputId": "faaefb39-0d93-4dd6-c535-8d0c024e2954"
      },
      "execution_count": 111,
      "outputs": [
        {
          "output_type": "display_data",
          "data": {
            "text/plain": [
              "<Figure size 1800x360 with 5 Axes>"
            ],
            "image/png": "[encoded data removed]"
          },
          "metadata": {
            "needs_background": "light"
          }
        },
        {
          "output_type": "stream",
          "name": "stdout",
          "text": [
            "[[0.5743322353309295, 0.6796230221601887, 0.5983660838219472, 0.6609530376050434, 0.6615440656165112], [0.6729406862904597, 0.7305528085449486, 0.681704154094091, 0.7246605968775269, 0.7393754865784148], [0.7352451450593385, 0.7691896189915848, 0.7386289780559141, 0.76905144025021, 0.7896220936230492], [0.7780251156914192, 0.7996607189575596, 0.7788004585125331, 0.8012121749528455, 0.8242760866728621], [0.8096047643039254, 0.8250166716902219, 0.8084366650148133, 0.8258056986887797, 0.8498106833583144]]\n",
            "[[0.6615824319245265, 0.8712265263363311, 0.968283437612533, 0.6513892116300575, 0.6921740432607297], [0.7542046613511724, 0.8603852624895257, 0.9526501581630831, 0.7274130869487301, 0.7984225662717253], [0.812459644508555, 0.8582934534397714, 0.9563989815212127, 0.7773192519359445, 0.8658119437812798], [0.8493012096314198, 0.8595930103370316, 0.9656911776126179, 0.8134088881591434, 0.913110158271086], [0.8735673004143748, 0.8629664286652169, 0.9760551613636542, 0.8414884761161291, 0.9489117549365514]]\n"
          ]
        }
      ]
    },
    {
      "cell_type": "markdown",
      "source": [
        "f) Time taken to solve pseudo inverse with number of samples and number of variables and its breaking points"
      ],
      "metadata": {
        "id": "zXBLY6c0HozA"
      }
    },
    {
      "cell_type": "code",
      "source": [
        "# importing the time library\n",
        "from time import time\n",
        "# setting a random seed\n",
        "np.random.seed(21)\n",
        "# creating lists to store no of samples & corresponding time taken \n",
        "Sample_Time_List = []\n",
        "Sample_List = [10, 100, 1000, 10000, 100000,1000000]\n",
        "i=10\n",
        "while(i<1000001):\n",
        "    # generate training data matrix & target vector\n",
        "    Training_X = Random_Data_Matrix(i,9)\n",
        "    w = np.random.normal(0,1,Training_X.shape[1])\n",
        "    Training_t = Target(Training_X, w, w0=0.5, Var=0.4)\n",
        "    x0=np.ones(Training_X.shape[0])\n",
        "    Training_X1 = np.column_stack((x0, Training_X))\n",
        "    \n",
        "    # store starting time\n",
        "    start_time = time()\n",
        "    w, T_MSE, y = LR_Weights_Pseudo_Inverse(Training_X1, Training_t, l=0.3)\n",
        "    # append the time diff in the list\n",
        "    Sample_Time_List.append((time() - start_time)*10**3)\n",
        "  \n",
        "    i=i*10\n",
        "# create 2 subplots\n",
        "fig, (ax1, ax2) = plt.subplots(1, 2, figsize=(10, 4))\n",
        "\n",
        "# first subplot is bw samples & time taken on a log scale with base 10\n",
        "ax1.plot(Sample_List, Sample_Time_List)\n",
        "ax1.set_xscale('log')\n",
        "ax1.set_xlabel('Number of samples')\n",
        "ax1.set_ylabel('Computation time (ms)')\n",
        "ax1.set_title('Computation time vs Number of samples')\n",
        "\n",
        "# now the same is repeated by varying the no of variables\n",
        "# begin by creating the lists to store the no of vars & te corresponding time taken\n",
        "Variable_Time_List = []\n",
        "Variable_List = [2, 4, 8, 16, 32, 64, 128,256,512]\n",
        "i=2\n",
        "while(i<1024):\n",
        "  # generate training data matrix & target vector\n",
        "    Training_X = Random_Data_Matrix(100,i)\n",
        "    w = np.random.normal(0,1,Training_X.shape[1])\n",
        "    Training_t = Target(Training_X, w, w0=0.5, Var=0.4)\n",
        "    x0=np.ones(Training_X.shape[0])\n",
        "    Training_X1 = np.column_stack((x0, Training_X))\n",
        "    \n",
        "    # note starting time\n",
        "    start_time = time()\n",
        "    # call the function\n",
        "    w, T_MSE, y = LR_Weights_Pseudo_Inverse(Training_X1, Training_t, l=0.3)\n",
        "    # append time diff in ms to the list\n",
        "    Variable_Time_List.append((time() - start_time)*10**3)\n",
        "  \n",
        "    i=i*2\n",
        "\n",
        "# second subplot is bw samples & time taken on a log scale of base 2\n",
        "ax2.plot(Variable_List, Variable_Time_List)\n",
        "ax2.set_xscale('log',basex=2)\n",
        "ax2.set_xlabel('Number of Variables')\n",
        "ax2.set_ylabel('Computation time (ms)')\n",
        "ax2.set_title('Computation time vs Number of Variables')\n",
        "\n",
        "# the plots & data lists can now be printed as follows\n",
        "plt.show()\n",
        "print(Sample_List)\n",
        "print(Sample_Time_List)\n",
        "print(Variable_List)\n",
        "print(Variable_Time_List)\n",
        "\n",
        "# it can be observed that as the no of samples/variables increases the computational requiremnts increase exponentially\n",
        "# the RAM is exhausted for samples in excess of 1000000 where it reaches the breakpoint"
      ],
      "metadata": {
        "colab": {
          "base_uri": "https://localhost:8080/",
          "height": 387
        },
        "id": "CzgnJ_1SHpXS",
        "outputId": "229c0c16-8d31-4da0-ca89-9b9b36f8cead"
      },
      "execution_count": 99,
      "outputs": [
        {
          "output_type": "display_data",
          "data": {
            "text/plain": [
              "<Figure size 720x288 with 2 Axes>"
            ],
            "image/png": "[encoded data removed]"
          },
          "metadata": {
            "needs_background": "light"
          }
        },
        {
          "output_type": "stream",
          "name": "stdout",
          "text": [
            "[10, 100, 1000, 10000, 100000, 1000000]\n",
            "[0.23818016052246094, 0.1289844512939453, 0.33283233642578125, 1.027822494506836, 8.760452270507812, 92.30923652648926]\n",
            "[2, 4, 8, 16, 32, 64, 128, 256, 512]\n",
            "[4.305601119995117, 0.14400482177734375, 0.09179115295410156, 0.110626220703125, 0.23365020751953125, 0.4363059997558594, 1.4569759368896484, 9.082555770874023, 25.736331939697266]\n"
          ]
        }
      ]
    },
    {
      "cell_type": "markdown",
      "source": [
        "g) Training and validation NRMSE obtained using gradient descent with max_iter: Keep w, noise_var, eta, epsilon fixed. Rest is like a"
      ],
      "metadata": {
        "id": "oWqD2nLyivVq"
      }
    },
    {
      "cell_type": "code",
      "source": [
        "# we begin by creating the lists to store NRMSE vals for training & validation\n",
        "Training_NRMSE = np.empty(11)\n",
        "Validation_NRMSE = np.empty(11)\n",
        "i=1\n",
        "# set a random seed\n",
        "np.random.seed(21)\n",
        "while(i<11):\n",
        "    # generate random data matrix & target vector for training\n",
        "    Training_X = Random_Data_Matrix(100,9)\n",
        "    w = np.random.normal(0,1,Training_X.shape[1])\n",
        "    Training_t = Target(Training_X, w, w0=0.5, Var=0.4)\n",
        "    x0=np.ones(Training_X.shape[0])\n",
        "    Training_X1 = np.column_stack((x0, Training_X))\n",
        "\n",
        "    # generate the validation data\n",
        "    Validation_X = Random_Data_Matrix(20,9)\n",
        "    #w = np.random.normal(0,1,Validation_X.shape[1])\n",
        "    Validation_t = Target(Validation_X, w, w0=0.5, Var=0.4)\n",
        "    x0=np.ones(Validation_X.shape[0])\n",
        "    Validation_X1 = np.column_stack((x0, Validation_X))\n",
        "    \n",
        "    # call pre-defined gradient descent function with different vals of max iterations\n",
        "    # store the Training_NRMSE in the list \n",
        "    w, Training_NRMSE[i] = LR_Weights_Gradient_Descent(Training_X1, Training_t, l2=0.3, l1=0.4, eta=0.001, max_iter=20*i, min_change_NRMSE=1e-7)\n",
        "\n",
        "    # using the w from training compute target in validation set\n",
        "    y=Validation_X1@w\n",
        "    # compute MSE\n",
        "    V_MSE=Mean_Square_Error(y,Validation_t)\n",
        "    # store the validation_NRMSE in the list\n",
        "    Validation_NRMSE[i]=np.sqrt(V_MSE)/np.std(Validation_t)\n",
        "    i=i+1\n",
        "\n",
        "fig, ax = plt.subplots()\n",
        "# create a box plot with the values in the 'Training_NRMSE', 'Validation_NRMSE' lists\n",
        "bp = ax.boxplot([Training_NRMSE[1:], Validation_NRMSE[1:]], labels=['Training_NRMSE', 'Validation_NRMSE'])\n",
        "\n",
        "ax.set_title('Box Plot')\n",
        "ax.set_xlabel('NRMSE Variation with Number of Max Iterations')\n",
        "ax.set_ylabel('Values')\n",
        "\n",
        "# the same can be observed as follows\n",
        "plt.show()\n",
        "print(Training_NRMSE[1:])\n",
        "print(Validation_NRMSE[1:])\n",
        "# it can be observed that the validtion NRMSE shows more variation compared to the Training NRMSE"
      ],
      "metadata": {
        "colab": {
          "base_uri": "https://localhost:8080/",
          "height": 364
        },
        "id": "I2jqJESwjpVX",
        "outputId": "afe71af8-8637-4e92-e507-7417635e8e22"
      },
      "execution_count": 100,
      "outputs": [
        {
          "output_type": "display_data",
          "data": {
            "text/plain": [
              "<Figure size 432x288 with 1 Axes>"
            ],
            "image/png": "[encoded data removed]"
          },
          "metadata": {
            "needs_background": "light"
          }
        },
        {
          "output_type": "stream",
          "name": "stdout",
          "text": [
            "[0.78072477 0.82673892 0.79727917 0.57570893 0.67749912 0.56910915\n",
            " 0.63887919 0.60379926 0.66074035 0.55906991]\n",
            "[1.03063822 0.87804874 0.70979832 0.54622905 0.73129553 0.45257795\n",
            " 0.80608499 0.71658967 0.83395757 0.58906048]\n"
          ]
        }
      ]
    },
    {
      "cell_type": "code",
      "source": [
        "# updated for multiple plots\n",
        "\n",
        "# we begin by creating empty arrays to store results for the Box Plots\n",
        "Training_NRMSE = []\n",
        "Validation_NRMSE = []\n",
        "i=2 #\n",
        "while(i<11):  \n",
        "  j=0\n",
        "  temp_train_nrmse=[]\n",
        "  temp_val_nrmse=[]\n",
        "  while(j<5):\n",
        "    np.random.seed(21+j)\n",
        "    # generate random data matrix & target vector for training\n",
        "    Training_X = Random_Data_Matrix(100,9)\n",
        "    w = np.random.normal(0,1,Training_X.shape[1])\n",
        "    Training_t = Target(Training_X, w, w0=1.5, Var=0.34)\n",
        "    x0=np.ones(Training_X.shape[0])\n",
        "    Training_X1 = np.column_stack((x0, Training_X))\n",
        "\n",
        "    # generate the validation data\n",
        "    Validation_X = Random_Data_Matrix(20,9)\n",
        "    #w = np.random.normal(0,1,Validation_X.shape[1])\n",
        "    Validation_t = Target(Validation_X, w, w0=1.5, Var=0.34)\n",
        "    x0=np.ones(Validation_X.shape[0])\n",
        "    Validation_X1 = np.column_stack((x0, Validation_X))\n",
        "    \n",
        "    # call pre-defined gradient descent function with different vals of max iterations\n",
        "    # store the Training_NRMSE in the list \n",
        "    w, T_NRMSE = LR_Weights_Gradient_Descent(Training_X1, Training_t, l2=0.3, l1=0.4, eta=0.001, max_iter=20*i, min_change_NRMSE=1e-7)\n",
        "\n",
        "    temp_train_nrmse.append(T_NRMSE)\n",
        "    # using the w from training compute target in validation set\n",
        "    y=Validation_X1@w\n",
        "    # compute MSE\n",
        "    V_MSE=Mean_Square_Error(y,Validation_t)\n",
        "    # store the validation_NRMSE in the list\n",
        "    \n",
        "    temp_val_nrmse.append(np.sqrt(V_MSE)/np.std(Validation_t))\n",
        "    #Validation_NRMSE[i]=np.sqrt(V_MSE)/np.std(Validation_t)\n",
        "    j=j+1\n",
        "  Training_NRMSE.append(temp_train_nrmse)\n",
        "  #print(Training_NRMSE)\n",
        "  Validation_NRMSE.append(temp_val_nrmse)\n",
        "  i=i+2\n",
        "# now the box plot can be plotted with values from 'Training_NRMSE', 'Validation_NRMSE'\n",
        "fig, (ax1, ax2, ax3, ax4, ax5) = plt.subplots(1, 5, figsize=(25, 5))\n",
        "\n",
        "# create a box plot with the values in the 'Training_NRMSE', 'Validation_NRMSE' lists\n",
        "bp = ax1.boxplot([Training_NRMSE[0], Validation_NRMSE[0]], labels=['Training_NRMSE', 'Validation_NRMSE'])\n",
        "ax1.set_title('NRMSE Variation with Max Iterations=40')\n",
        "ax1.set_ylabel('Values')\n",
        "\n",
        "bp = ax2.boxplot([Training_NRMSE[1], Validation_NRMSE[1]], labels=['Training_NRMSE', 'Validation_NRMSE'])\n",
        "ax2.set_title('NRMSE Variation with Max Iterations=80')\n",
        "ax2.set_ylabel('Values')\n",
        "\n",
        "bp = ax3.boxplot([Training_NRMSE[2], Validation_NRMSE[2]], labels=['Training_NRMSE', 'Validation_NRMSE'])\n",
        "ax3.set_title('NRMSE Variation with Max Iterations=120')\n",
        "ax3.set_ylabel('Values')\n",
        "\n",
        "bp = ax4.boxplot([Training_NRMSE[3], Validation_NRMSE[3]], labels=['Training_NRMSE', 'Validation_NRMSE'])\n",
        "ax4.set_title('NRMSE Variation with Max Iterations=160')\n",
        "ax4.set_ylabel('Values')\n",
        "\n",
        "bp = ax5.boxplot([Training_NRMSE[4], Validation_NRMSE[4]], labels=['Training_NRMSE', 'Validation_NRMSE'])\n",
        "ax5.set_title('NRMSE Variation with Max Iterations=200')\n",
        "ax5.set_ylabel('Values')\n",
        "\n",
        "# show the plots & lists of data\n",
        "plt.show()\n",
        "print(Training_NRMSE)\n",
        "print(Validation_NRMSE)\n",
        "# it can be observed that the validtion NRMSE shows more variation compared to the Training NRMSE"
      ],
      "metadata": {
        "colab": {
          "base_uri": "https://localhost:8080/",
          "height": 360
        },
        "id": "IxfBvBhqNGo7",
        "outputId": "a1464738-2b29-4a55-db61-1115e8000e51"
      },
      "execution_count": 101,
      "outputs": [
        {
          "output_type": "display_data",
          "data": {
            "text/plain": [
              "<Figure size 1800x360 with 5 Axes>"
            ],
            "image/png": "[encoded data removed]"
          },
          "metadata": {
            "needs_background": "light"
          }
        },
        {
          "output_type": "stream",
          "name": "stdout",
          "text": [
            "[[0.6550908722154634, 0.6888367904364502, 0.6752077357881212, 0.6946406616332137, 0.7199832752027613], [0.5258184557815649, 0.6263280749494525, 0.5660994545878937, 0.6130375462966257, 0.6135235363568479], [0.4735252684152355, 0.6096602533945509, 0.5273122961239817, 0.5867558421462538, 0.5734295438113126], [0.45116472674893077, 0.6044933843290198, 0.5102146848996905, 0.5772605127389275, 0.5574396142777167], [0.4409966988780235, 0.6026185473688106, 0.5010905627376948, 0.5733041661828143, 0.5506228580910351]]\n",
            "[[0.9117398073600441, 0.7007959001451687, 0.7756914411289161, 0.835932516848609, 0.9297033257904279], [0.801441427615516, 0.6593014699647878, 0.7130584180723163, 0.8458560012574986, 0.7962930692048714], [0.7647516117174558, 0.6484727518565228, 0.6985815632952982, 0.862019911392076, 0.758662834490982], [0.751278573023243, 0.6443634282007024, 0.6910211727233199, 0.8736858166494239, 0.7525755603686058], [0.7464445719617622, 0.6425877153679416, 0.6847955221793902, 0.8812672382743657, 0.7545195141398554]]\n"
          ]
        }
      ]
    },
    {
      "cell_type": "markdown",
      "source": [
        "h) Training and validation NRMSE obtained using gradient descent with eta: Like g with appropriate changes"
      ],
      "metadata": {
        "id": "s13tF20BnJPq"
      }
    },
    {
      "cell_type": "code",
      "source": [
        "# we begin by creating the lists to store NRMSE vals for training & validation\n",
        "Training_NRMSE = np.empty(11)\n",
        "Validation_NRMSE = np.empty(11)\n",
        "i=1\n",
        "# set a random seed\n",
        "np.random.seed(21)\n",
        "while(i<11):\n",
        "    # generate random data matrix & target vector for training    \n",
        "    Training_X = Random_Data_Matrix(100,9)\n",
        "    w = np.random.normal(0,1,Training_X.shape[1])\n",
        "    Training_t = Target(Training_X, w, w0=0.5, Var=0.4)\n",
        "    x0=np.ones(Training_X.shape[0])\n",
        "    Training_X1 = np.column_stack((x0, Training_X))\n",
        "\n",
        "    # generate the validation data\n",
        "    Validation_X = Random_Data_Matrix(20,9)\n",
        "    #w = np.random.normal(0,1,Validation_X.shape[1])\n",
        "    Validation_t = Target(Validation_X, w, w0=0.5, Var=0.4)\n",
        "    x0=np.ones(Validation_X.shape[0])\n",
        "    Validation_X1 = np.column_stack((x0, Validation_X))\n",
        "    \n",
        "    # call pre-defined gradient descent function with different vals of eta\n",
        "    # store the Training_NRMSE in the list     \n",
        "    w, Training_NRMSE[i] = LR_Weights_Gradient_Descent(Training_X1, Training_t, l2=0.3, l1=0.4, eta=0.00005*i, max_iter=100, min_change_NRMSE=1e-7)\n",
        "\n",
        "    # using the w from training compute target in validation set\n",
        "    # compute MSE\n",
        "    y=Validation_X1@w\n",
        "    V_MSE=Mean_Square_Error(y,Validation_t)\n",
        "    # store the validation_NRMSE in the list\n",
        "    Validation_NRMSE[i]=np.sqrt(V_MSE)/np.std(Validation_t)\n",
        "    i=i+1\n",
        "\n",
        "fig, ax = plt.subplots()\n",
        "\n",
        "# create a box plot with the values in the 'Training_NRMSE', 'Validation_NRMSE' lists\n",
        "bp = ax.boxplot([Training_NRMSE[1:], Validation_NRMSE[1:]], labels=['Training_NRMSE', 'Validation_NRMSE'])\n",
        "\n",
        "ax.set_title('Box Plot')\n",
        "ax.set_xlabel('NRMSE Variation with Step Size Eta')\n",
        "ax.set_ylabel('Values')\n",
        "\n",
        "# the same can be observed as follows\n",
        "plt.show()\n",
        "print(Training_NRMSE[1:])\n",
        "print(Validation_NRMSE[1:])\n",
        "# it can be observed that the validtion NRMSE shows more variation compared to the Training NRMSE"
      ],
      "metadata": {
        "colab": {
          "base_uri": "https://localhost:8080/",
          "height": 364
        },
        "id": "z2rQ9zTnnKBf",
        "outputId": "e53b83a2-215b-4b36-babd-3736faa0ada6"
      },
      "execution_count": 102,
      "outputs": [
        {
          "output_type": "display_data",
          "data": {
            "text/plain": [
              "<Figure size 432x288 with 1 Axes>"
            ],
            "image/png": "[encoded data removed]"
          },
          "metadata": {
            "needs_background": "light"
          }
        },
        {
          "output_type": "stream",
          "name": "stdout",
          "text": [
            "[0.92106897 0.93519349 0.90955807 0.75252062 0.7787918  0.72008974\n",
            " 0.72739939 0.71660176 0.74440936 0.73241813]\n",
            "[1.11961046 0.9526473  0.90111833 0.73894111 0.82321991 0.68631191\n",
            " 0.80849941 0.84599485 0.85250642 0.81615782]\n"
          ]
        }
      ]
    },
    {
      "cell_type": "code",
      "source": [
        "#updated for multiple plots\n",
        "\n",
        "# we begin by creating empty arrays to store results for the Box Plots\n",
        "Training_NRMSE = []\n",
        "Validation_NRMSE = []\n",
        "i=10 #\n",
        "while(i<110):  \n",
        "  j=0\n",
        "  temp_train_nrmse=[]\n",
        "  temp_val_nrmse=[]\n",
        "  while(j<5):\n",
        "    np.random.seed(21+j)\n",
        "    # generate random data matrix & target vector for training    \n",
        "    Training_X = Random_Data_Matrix(100,9)\n",
        "    w = np.random.normal(0,1,Training_X.shape[1])\n",
        "    Training_t = Target(Training_X, w, w0=0.5, Var=0.4)\n",
        "    x0=np.ones(Training_X.shape[0])\n",
        "    Training_X1 = np.column_stack((x0, Training_X))\n",
        "\n",
        "    # generate the validation data\n",
        "    Validation_X = Random_Data_Matrix(20,9)\n",
        "    #w = np.random.normal(0,1,Validation_X.shape[1])\n",
        "    Validation_t = Target(Validation_X, w, w0=0.5, Var=0.4)\n",
        "    x0=np.ones(Validation_X.shape[0])\n",
        "    Validation_X1 = np.column_stack((x0, Validation_X))\n",
        "    \n",
        "    # call pre-defined gradient descent function with different vals of eta\n",
        "    # store the Training_NRMSE in the list     \n",
        "    w, T_NRMSE = LR_Weights_Gradient_Descent(Training_X1, Training_t, l2=0.3, l1=0.4, eta=0.00005*i, max_iter=100, min_change_NRMSE=1e-7)\n",
        "    \n",
        "    temp_train_nrmse.append(T_NRMSE)\n",
        "    # using the w from training compute target in validation set\n",
        "    y=Validation_X1@w\n",
        "    # compute MSE\n",
        "    V_MSE=Mean_Square_Error(y,Validation_t)\n",
        "    # store the validation_NRMSE in the list\n",
        "    \n",
        "    temp_val_nrmse.append(np.sqrt(V_MSE)/np.std(Validation_t))\n",
        "    #Validation_NRMSE[i]=np.sqrt(V_MSE)/np.std(Validation_t)\n",
        "    j=j+1\n",
        "  Training_NRMSE.append(temp_train_nrmse)\n",
        "  #print(Training_NRMSE)\n",
        "  Validation_NRMSE.append(temp_val_nrmse)\n",
        "  i=i+10\n",
        "# now the box plot can be plotted with values from 'Training_NRMSE', 'Validation_NRMSE'\n",
        "fig, (ax1, ax2, ax3, ax4, ax5) = plt.subplots(1, 5, figsize=(25, 5))\n",
        "\n",
        "# create a box plot with the values in the 'Training_NRMSE', 'Validation_NRMSE' lists\n",
        "bp = ax1.boxplot([Training_NRMSE[0], Validation_NRMSE[0]], labels=['Training_NRMSE', 'Validation_NRMSE'])\n",
        "ax1.set_title('NRMSE Variation with Step Size=0.0005')\n",
        "ax1.set_ylabel('Values')\n",
        "\n",
        "bp = ax2.boxplot([Training_NRMSE[1], Validation_NRMSE[1]], labels=['Training_NRMSE', 'Validation_NRMSE'])\n",
        "ax2.set_title('NRMSE Variation with Step Size=0.001')\n",
        "ax2.set_ylabel('Values')\n",
        "\n",
        "bp = ax3.boxplot([Training_NRMSE[2], Validation_NRMSE[2]], labels=['Training_NRMSE', 'Validation_NRMSE'])\n",
        "ax3.set_title('NRMSE Variation with Step Size=0.0015')\n",
        "ax3.set_ylabel('Values')\n",
        "\n",
        "bp = ax4.boxplot([Training_NRMSE[3], Validation_NRMSE[3]], labels=['Training_NRMSE', 'Validation_NRMSE'])\n",
        "ax4.set_title('NRMSE Variation with Step Size=0.002')\n",
        "ax4.set_ylabel('Values')\n",
        "\n",
        "bp = ax5.boxplot([Training_NRMSE[4], Validation_NRMSE[4]], labels=['Training_NRMSE', 'Validation_NRMSE'])\n",
        "ax5.set_title('NRMSE Variation with Step Size=0.0025')\n",
        "ax5.set_ylabel('Values')\n",
        "\n",
        "# show the plots & lists of data\n",
        "plt.show()\n",
        "print(Training_NRMSE)\n",
        "print(Validation_NRMSE)\n",
        "# it can be observed that the validtion NRMSE shows more variation compared to the Training NRMSE"
      ],
      "metadata": {
        "colab": {
          "base_uri": "https://localhost:8080/",
          "height": 361
        },
        "id": "3vHg4ro4Nou1",
        "outputId": "0ba85ed3-0319-45eb-adc7-b8f4e5d95c02"
      },
      "execution_count": 103,
      "outputs": [
        {
          "output_type": "display_data",
          "data": {
            "text/plain": [
              "<Figure size 1800x360 with 5 Axes>"
            ],
            "image/png": "[encoded data removed]"
          },
          "metadata": {
            "needs_background": "light"
          }
        },
        {
          "output_type": "stream",
          "name": "stdout",
          "text": [
            "[[0.6197513115670423, 0.6924890128716604, 0.630567504979398, 0.6845175397121352, 0.6979285876821837], [0.5107529795408775, 0.6493283940127554, 0.5468386548851452, 0.6215912220599167, 0.6133287044959473], [0.4759005845713472, 0.6389299047079344, 0.5257958482179312, 0.6057467216929702, 0.5878016438674071], [0.46423674297692286, 0.6354032982199072, 0.5185393552136123, 0.6008912265095838, 0.5793975663558922], [0.45977322275236504, 0.6338305035627103, 0.515253144377337, 0.5991003041863259, 0.5763026783377847], [0.6050256682811358, 0.6331281911125597, 0.5135053166127016, 797.1737110391554, 11.154646539851306], [1342288809488.6624, 67775343626.519066, 79582.82385798, 1155273761801720.5, 25388544556145.184], [7.41862931847003e+21, 5.063927526202969e+20, 1346426897344721.5, 3.624792629137474e+24, 1.0778282615372489e+23], [6.658734073734502e+29, 5.551917242389129e+28, 2.554402913094068e+23, 2.2271478095187166e+32, 8.110966904445042e+30], [3.4926050317403183e+36, 3.357806499778288e+35, 2.264801540624639e+30, 8.905971423619445e+38, 3.7509896813452477e+37]]\n",
            "[[0.8836353003808693, 0.7180146740584508, 0.7312845323365067, 0.8481504444466347, 0.8976451030013776], [0.808106314223734, 0.6858743194446304, 0.7083252324219382, 0.8639233571030316, 0.8137758971792953], [0.7948431293349325, 0.6768113304915019, 0.7104547964456412, 0.8847863616913584, 0.8037990203755613], [0.7957908967740578, 0.6732188605028333, 0.7101989431942921, 0.899366979978394, 0.8063180974871618], [0.7971884999355917, 0.6714213567519833, 0.7082948274063137, 0.9085045595492331, 0.8091393385652055], [0.6866096571532032, 0.6728692507263759, 0.7069786165062186, 951.2440588902807, 15.608200666378792], [2174166737453.0752, 57018447176.67633, 96096.80341840805, 1378859788414463.8, 35054598806398.305], [1.201629409982149e+22, 4.260211290842849e+20, 1625817867926392.8, 4.3263172443767713e+24, 1.4881844529067584e+23], [1.0785456925754259e+30, 4.670750203170116e+28, 3.084455536488206e+23, 2.6581790904793158e+32, 1.119901497852793e+31], [5.657132528703196e+36, 2.82487557114529e+35, 2.7347602898577784e+30, 1.0629589521401079e+39, 5.179085319984216e+37]]\n"
          ]
        }
      ]
    },
    {
      "cell_type": "markdown",
      "source": [
        "i) Time taken to solve gradient descent with number of samples and number of variables and its breaking points"
      ],
      "metadata": {
        "id": "lLI-cC2Z-tua"
      }
    },
    {
      "cell_type": "code",
      "source": [
        "# importing the time library\n",
        "from time import time\n",
        "# setting a random seed\n",
        "np.random.seed(21)\n",
        "# creating lists to store no of samples & corresponding time taken\n",
        "Sample_Time_List = []\n",
        "Sample_List = [10, 100, 1000, 10000, 100000,1000000]\n",
        "i=10\n",
        "while(i<1000001):\n",
        "    # generate training data matrix & target vector\n",
        "    Training_X = Random_Data_Matrix(i,9)\n",
        "    w = np.random.normal(0,1,Training_X.shape[1])\n",
        "    Training_t = Target(Training_X, w, w0=0.5, Var=0.4)\n",
        "    x0=np.ones(Training_X.shape[0])\n",
        "    Training_X1 = np.column_stack((x0, Training_X))\n",
        "    \n",
        "    # store starting time    \n",
        "    start_time = time()\n",
        "    w, Training_NRMSE = LR_Weights_Gradient_Descent(Training_X1, Training_t, l2=0.3, l1=0.4, eta=0.000001, max_iter=100, min_change_NRMSE=1e-6)\n",
        "    # append the time diff in the list\n",
        "    Sample_Time_List.append((time() - start_time)*10**3)\n",
        "  \n",
        "    i=i*10\n",
        "# create 2 subplots\n",
        "fig, (ax1, ax2) = plt.subplots(1, 2, figsize=(10, 4))\n",
        "# first subplot is bw samples & time taken on a log scale with base 10\n",
        "ax1.plot(Sample_List, Sample_Time_List)\n",
        "ax1.set_xscale('log')\n",
        "ax1.set_xlabel('Number of samples')\n",
        "ax1.set_ylabel('Computation time (ms)')\n",
        "ax1.set_title('Time Complexity vs Samples in Gradient Descent')\n",
        "\n",
        "\n",
        "# now the same is repeated by varying the no of variables\n",
        "# begin by creating the lists to store the no of vars & te corresponding time taken\n",
        "Variable_Time_List = []\n",
        "Variable_List = [2, 4, 8, 16, 32, 64, 128, 256, 512]\n",
        "i=2\n",
        "while(i<1024):\n",
        "    # generate training data matrix & target vector\n",
        "    Training_X = Random_Data_Matrix(100,i)\n",
        "    w = np.random.normal(0,1,Training_X.shape[1])\n",
        "    Training_t = Target(Training_X, w, w0=0.5, Var=0.4)\n",
        "    x0=np.ones(Training_X.shape[0])\n",
        "    Training_X1 = np.column_stack((x0, Training_X))\n",
        "    # note starting time    \n",
        "    start_time = time()\n",
        "    w, Training_NRMSE = LR_Weights_Gradient_Descent(Training_X1, Training_t, l2=0.3, l1=0.4, eta=0.000001, max_iter=100, min_change_NRMSE=1e-6)\n",
        "    # call the function\n",
        "    # append time diff in ms to the list    \n",
        "    Variable_Time_List.append((time() - start_time)*10**3)  \n",
        "    i=i*2\n",
        "\n",
        "# second subplot is bw samples & time taken on a log scale of base 2\n",
        "\n",
        "ax2.plot(Variable_List, Variable_Time_List)\n",
        "ax2.set_xscale('log',basex=2)\n",
        "ax2.set_xlabel('Number of Variables')\n",
        "ax2.set_ylabel('Computation time (ms)')\n",
        "ax2.set_title('Time Complexity vs Variables in Gradient Descent')\n",
        "\n",
        "# the plots & data lists can now be printed as follows\n",
        "plt.show()\n",
        "print(Sample_List)\n",
        "print(Sample_Time_List)\n",
        "print(Variable_List)\n",
        "print(Variable_Time_List)\n",
        "\n",
        "# it can be observed that as the no of samples/variables increases the computational requiremnts increase exponentially\n",
        "# the RAM is exhausted for samples in excess of 10000000 where it reaches the breakpoint which is higher than that of the Pseudo Inverse Solution"
      ],
      "metadata": {
        "colab": {
          "base_uri": "https://localhost:8080/",
          "height": 387
        },
        "id": "pK66B0qo-2lb",
        "outputId": "ec3671e8-1326-4257-8525-f78f122eb637"
      },
      "execution_count": 104,
      "outputs": [
        {
          "output_type": "display_data",
          "data": {
            "text/plain": [
              "<Figure size 720x288 with 2 Axes>"
            ],
            "image/png": "[encoded data removed]"
          },
          "metadata": {
            "needs_background": "light"
          }
        },
        {
          "output_type": "stream",
          "name": "stdout",
          "text": [
            "[10, 100, 1000, 10000, 100000, 1000000]\n",
            "[9.545564651489258, 6.50477409362793, 14.486312866210938, 51.00512504577637, 610.1648807525635, 8369.535446166992]\n",
            "[2, 4, 8, 16, 32, 64, 128, 256, 512]\n",
            "[9.897708892822266, 9.88006591796875, 9.986400604248047, 10.26296615600586, 15.041112899780273, 10.866880416870117, 11.95836067199707, 14.155149459838867, 31.218528747558594]\n"
          ]
        }
      ]
    },
    {
      "cell_type": "markdown",
      "source": [
        "k) Training and validation NRMSE and number of nearly zero weights obtained using gradient descent with lambda2: We are looking for how L2 normalization shrink the weights. Does it make them zero? For what value of lambda? Keep w, noise_var etc. fixed."
      ],
      "metadata": {
        "id": "Q6P3AqC5Bspz"
      }
    },
    {
      "cell_type": "code",
      "source": [
        "# we begin by creating the lists to store NRMSE vals for training & validation\n",
        "Training_NRMSE = np.empty(11)\n",
        "Validation_NRMSE = np.empty(11)\n",
        "# creating another set of lists to store no of zeroes in weight vector & different values of lambda2\n",
        "Lambda2_Zeroes_List = []\n",
        "Lambda2_List = []\n",
        "i=1\n",
        "# set a random seed\n",
        "np.random.seed(21)\n",
        "while(i<11):\n",
        "    # generate random data matrix & target vector for training    \n",
        "    Training_X = Random_Data_Matrix(100,19)\n",
        "    w = np.random.normal(0,1,Training_X.shape[1])\n",
        "    Training_t = Target(Training_X, w, w0=0.4, Var=0.3)\n",
        "    x0=np.ones(Training_X.shape[0])\n",
        "    Training_X1 = np.column_stack((x0, Training_X))\n",
        "\n",
        "    # generate the validation data\n",
        "    Validation_X = Random_Data_Matrix(20,19)\n",
        "    #w = np.random.normal(0,1,Validation_X.shape[1])\n",
        "    Validation_t = Target(Validation_X, w, w0=0.4, Var=0.3)\n",
        "    x0=np.ones(Validation_X.shape[0])\n",
        "    Validation_X1 = np.column_stack((x0, Validation_X))\n",
        "\n",
        "    # call pre-defined gradient descent function\n",
        "    # store the Training_NRMSE in the list     \n",
        "    w, Training_NRMSE[i] = LR_Weights_Gradient_Descent(Training_X1, Training_t, l2=0.003*i, l1=0, eta=0.0007, max_iter=100, min_change_NRMSE=1e-7)\n",
        "    \n",
        "    # append the no of zeroes in w to the list\n",
        "    Lambda2_Zeroes_List.append(len(w) - np.count_nonzero(np.round_(w)))\n",
        "    # append the current lambda2 value to the other list\n",
        "    Lambda2_List.append(0.003*i)\n",
        "\n",
        "    # using the w from training compute target in validation set\n",
        "    y=Validation_X1@w\n",
        "    # compute MSE\n",
        "    V_MSE=Mean_Square_Error(y,Validation_t)\n",
        "    # store the validation_NRMSE in the list\n",
        "    Validation_NRMSE[i]=np.sqrt(V_MSE)/np.std(Validation_t)\n",
        "    i=i+1\n",
        "\n",
        "# creating two subplots ax1 & ax2\n",
        "fig, (ax1, ax2) = plt.subplots(1, 2, figsize=(10, 4))\n",
        "\n",
        "# create a box plot with the values in the 'Training_NRMSE', 'Validation_NRMSE' lists\n",
        "bp = ax1.boxplot([Training_NRMSE[1:], Validation_NRMSE[1:]], labels=['Training_NRMSE', 'Validation_NRMSE'])\n",
        "ax1.set_title('NRMSE Variation with lambda 2')\n",
        "ax1.set_ylabel('Values')\n",
        " \n",
        "# creating another plot with values in Lambda2_List & Lambda2_Zeroes_List on a linaer scale\n",
        "ax2.plot(Lambda2_List, Lambda2_Zeroes_List)\n",
        "ax2.set_xscale('linear')\n",
        "ax2.set_xlabel('Lambda2')\n",
        "ax2.set_ylabel('No of Nearly Zeroes Weights')\n",
        "ax2.set_title('No of Zeroes vs Lambda2 values')\n",
        "\n",
        "# show the plots & lists of data\n",
        "plt.show()\n",
        "print(Training_NRMSE[1:])\n",
        "print(Validation_NRMSE[1:])\n",
        "print(Lambda2_Zeroes_List)\n",
        "print(Lambda2_List)\n",
        "# it can be observed that the validtion NRMSE shows more variation compared to the Training NRMSE\n",
        "# also as the value of lambda2 is increased, the number of nearly zero weights also increases "
      ],
      "metadata": {
        "colab": {
          "base_uri": "https://localhost:8080/",
          "height": 397
        },
        "id": "CYEuTSflBz3A",
        "outputId": "55863b58-595e-4078-e8d4-8435287dd3fb"
      },
      "execution_count": 105,
      "outputs": [
        {
          "output_type": "display_data",
          "data": {
            "text/plain": [
              "<Figure size 720x288 with 2 Axes>"
            ],
            "image/png": "[encoded data removed]"
          },
          "metadata": {
            "needs_background": "light"
          }
        },
        {
          "output_type": "stream",
          "name": "stdout",
          "text": [
            "[0.45701476 0.4714189  0.43583301 0.5681103  0.57679084 0.46617333\n",
            " 0.55320979 0.47235973 0.49137612 0.52681676]\n",
            "[0.4955853  0.61227351 0.54514314 0.66096106 0.53131646 0.56829781\n",
            " 0.58189427 0.48141572 0.49218912 0.55602715]\n",
            "[9, 8, 9, 13, 14, 10, 14, 9, 11, 12]\n",
            "[0.003, 0.006, 0.009000000000000001, 0.012, 0.015, 0.018000000000000002, 0.021, 0.024, 0.027, 0.03]\n"
          ]
        }
      ]
    },
    {
      "cell_type": "markdown",
      "source": [
        "l) Training and validation NRMSE and number of nearly zero weights obtained using gradient descent with lambda1: We are looking for how L1 normalization shrink the weights. Does it make them zero? For what value of lambda? Keep w, noise_var etc. fixed."
      ],
      "metadata": {
        "id": "LLenX9G8VDu4"
      }
    },
    {
      "cell_type": "code",
      "source": [
        "# we begin by creating the lists to store NRMSE vals for training & validation\n",
        "Training_NRMSE = np.empty(11)\n",
        "Validation_NRMSE = np.empty(11)\n",
        "# creating another set of lists to store no of zeroes in weight vector & different values of lambda1\n",
        "Lambda1_Zeroes_List = []\n",
        "Lambda1_List = []\n",
        "i=1\n",
        "# set a random seed\n",
        "np.random.seed(21)\n",
        "while(i<11):\n",
        "    # generate random data matrix & target vector for training        \n",
        "    Training_X = Random_Data_Matrix(500,30)\n",
        "    w = np.random.normal(0,1,Training_X.shape[1])\n",
        "    Training_t = Target(Training_X, w, w0=0.5, Var=0.4)\n",
        "    x0=np.ones(Training_X.shape[0])\n",
        "    Training_X1 = np.column_stack((x0, Training_X))\n",
        "    # generate the validation data\n",
        "    Validation_X = Random_Data_Matrix(50,30)\n",
        "    #w = np.random.normal(0,1,Validation_X.shape[1])\n",
        "    Validation_t = Target(Validation_X, w, w0=0.5, Var=0.4)\n",
        "    x0=np.ones(Validation_X.shape[0])\n",
        "    Validation_X1 = np.column_stack((x0, Validation_X))\n",
        "\n",
        "    # call pre-defined gradient descent function\n",
        "    # store the Training_NRMSE in the list         \n",
        "    w, Training_NRMSE[i] = LR_Weights_Gradient_Descent(Training_X1, Training_t, l2=0, l1=0.001*i, eta=0.00007, max_iter=100, min_change_NRMSE=1e-7)\n",
        "    # append the no of zeroes in w to the list    \n",
        "    Lambda1_Zeroes_List.append(len(w) - np.count_nonzero(np.round_(w)))\n",
        "    # append the current lambda1 value to the other list\n",
        "    Lambda1_List.append(0.001*i)\n",
        "\n",
        "    # using the w from training compute target in validation set\n",
        "    y=Validation_X1@w\n",
        "    # compute MSE\n",
        "    V_MSE=Mean_Square_Error(y,Validation_t)\n",
        "    # store the validation_NRMSE in the list\n",
        "    Validation_NRMSE[i]=np.sqrt(V_MSE)/np.std(Validation_t)\n",
        "    i=i+1\n",
        "\n",
        "# creating two subplots ax1 & ax2\n",
        "fig, (ax1, ax2) = plt.subplots(1, 2, figsize=(10, 4))\n",
        "\n",
        "# create a box plot with the values in the 'Training_NRMSE', 'Validation_NRMSE' lists\n",
        "bp = ax1.boxplot([Training_NRMSE[1:], Validation_NRMSE[1:]], labels=['Training_NRMSE', 'Validation_NRMSE'])\n",
        "ax1.set_title('NRMSE Variation with lambda 1')\n",
        "ax1.set_ylabel('Values')\n",
        "\n",
        "# creating another plot with values in Lambda1_List & Lambda1_Zeroes_List on a linaer scale\n",
        "ax2.plot(Lambda1_List, Lambda1_Zeroes_List)\n",
        "ax2.set_xscale('linear')\n",
        "ax2.set_xlabel('Lambda1')\n",
        "ax2.set_ylabel('No of Nearly Zeroes Weights')\n",
        "ax2.set_title('No of Zeroes vs Lambda1 values')\n",
        "\n",
        "# show the plots & lists of data\n",
        "plt.show()\n",
        "print(Training_NRMSE[1:])\n",
        "print(Validation_NRMSE[1:])\n",
        "print(Lambda1_Zeroes_List)\n",
        "print(Lambda1_List)\n",
        "# it can be observed that the validtion NRMSE shows more variation compared to the Training NRMSE\n",
        "# also as the value of lambda1 is increased, the number of nearly zero weights also increases\n",
        "# and the number of nearly zero weights obtained in l1 is more than that of l2"
      ],
      "metadata": {
        "colab": {
          "base_uri": "https://localhost:8080/",
          "height": 397
        },
        "id": "lSBiso7JVH9I",
        "outputId": "ac8dc3a2-90c3-4d50-faca-e86c50259b84"
      },
      "execution_count": 106,
      "outputs": [
        {
          "output_type": "display_data",
          "data": {
            "text/plain": [
              "<Figure size 720x288 with 2 Axes>"
            ],
            "image/png": "[encoded data removed]"
          },
          "metadata": {
            "needs_background": "light"
          }
        },
        {
          "output_type": "stream",
          "name": "stdout",
          "text": [
            "[0.59141819 0.63988506 0.61884331 0.62313223 0.6376892  0.61040675\n",
            " 0.61608194 0.64753898 0.57350463 0.66673534]\n",
            "[0.60820771 0.67934787 0.65251787 0.60612288 0.64463167 0.67975835\n",
            " 0.67538557 0.68859578 0.61064817 0.6638699 ]\n",
            "[21, 24, 25, 22, 20, 22, 20, 23, 18, 26]\n",
            "[0.001, 0.002, 0.003, 0.004, 0.005, 0.006, 0.007, 0.008, 0.009000000000000001, 0.01]\n"
          ]
        }
      ]
    },
    {
      "cell_type": "markdown",
      "source": [
        "m) Training and validation NRMSE for optimal lambda2 with noise variance: Keep w and everything else fixed, except noise variance"
      ],
      "metadata": {
        "id": "9l_ai_BzWkx9"
      }
    },
    {
      "cell_type": "code",
      "source": [
        "# using l2=0.07 as optimal values of lambda2, the NRMSE variation is obserevd in this question\n",
        "# we begin by creating the lists to store NRMSE vals for training & validation\n",
        "Training_NRMSE = np.empty(11)\n",
        "Validation_NRMSE = np.empty(11)\n",
        "i=1\n",
        "# set a random seed\n",
        "np.random.seed(21)\n",
        "while(i<11):\n",
        "    # generate random data matrix & target vector for training        \n",
        "    Training_X = Random_Data_Matrix(100,19)\n",
        "    w = np.random.normal(0,1,Training_X.shape[1])\n",
        "    Training_t = Target(Training_X, w, w0=0.5, Var=0.5*i)\n",
        "    x0=np.ones(Training_X.shape[0])\n",
        "    Training_X1 = np.column_stack((x0, Training_X))\n",
        "    # generate the validation data\n",
        "    Validation_X = Random_Data_Matrix(20,19)\n",
        "    #w = np.random.normal(0,1,Validation_X.shape[1])\n",
        "    Validation_t = Target(Validation_X, w, w0=0.5, Var=0.5*i)\n",
        "    x0=np.ones(Validation_X.shape[0])\n",
        "    Validation_X1 = np.column_stack((x0, Validation_X))\n",
        "\n",
        "    # call pre-defined gradient descent function\n",
        "    # store the Training_NRMSE in the list     \n",
        "    w, Training_NRMSE[i] = LR_Weights_Gradient_Descent(Training_X1, Training_t, l2=0.07, l1=0.04, eta=0.0001, max_iter=100, min_change_NRMSE=1e-7)\n",
        "    # using the w from training compute target in validation set\n",
        "    # compute MSE\n",
        "    y=Validation_X1@w\n",
        "    V_MSE=Mean_Square_Error(y,Validation_t)\n",
        "\n",
        "    # store the validation_NRMSE in the list\n",
        "    Validation_NRMSE[i]=np.sqrt(V_MSE)/np.std(Validation_t)\n",
        "    i=i+1\n",
        "\n",
        "# create a box plot with the values in the 'Training_NRMSE', 'Validation_NRMSE' lists\n",
        "fig, ax = plt.subplots()\n",
        "bp = ax.boxplot([Training_NRMSE[1:], Validation_NRMSE[1:]], labels=['Training_NRMSE', 'Validation_NRMSE'])\n",
        "ax.set_title('Box Plot')\n",
        "ax.set_xlabel('NRMSE Variation with Noise Variance for optimal lambda 2')\n",
        "ax.set_ylabel('Values')\n",
        "\n",
        "# visualise the box plots bw Training & Validation NRMSE\n",
        "plt.show()\n",
        "print(Training_NRMSE[1:])\n",
        "print(Validation_NRMSE[1:])\n",
        "# it can be observed that the validtion NRMSE shows more variation compared to the Training NRMSE\n",
        "# also as noise is increased the validation NRMSE is reduced"
      ],
      "metadata": {
        "colab": {
          "base_uri": "https://localhost:8080/",
          "height": 364
        },
        "id": "rSL4KYQnXAFz",
        "outputId": "b0e8153d-e3ce-4f00-b71c-e54d4f36762d"
      },
      "execution_count": 107,
      "outputs": [
        {
          "output_type": "display_data",
          "data": {
            "text/plain": [
              "<Figure size 432x288 with 1 Axes>"
            ],
            "image/png": "[encoded data removed]"
          },
          "metadata": {
            "needs_background": "light"
          }
        },
        {
          "output_type": "stream",
          "name": "stdout",
          "text": [
            "[0.84223773 0.87907769 0.91130399 0.94178898 0.95140299 0.92245419\n",
            " 0.94531116 0.93274771 0.94151438 0.96077548]\n",
            "[0.887079   1.03128842 0.97826483 0.97100154 0.93674435 1.00031266\n",
            " 0.96570523 0.98745325 0.93684608 0.9725635 ]\n"
          ]
        }
      ]
    },
    {
      "cell_type": "code",
      "source": [
        "# updated for multiple plots with diff random seeds\n",
        "\n",
        "# using l2=0.07 as optimal values of lambda2, the NRMSE variation is obserevd in this question\n",
        "# we begin by creating the lists to store NRMSE vals for training & validation\n",
        "\n",
        "Training_NRMSE = []\n",
        "Validation_NRMSE = []\n",
        "i=1 #\n",
        "while(i<6):  \n",
        "  j=0\n",
        "  temp_train_nrmse=[]\n",
        "  temp_val_nrmse=[]\n",
        "  while(j<6):\n",
        "    np.random.seed(21+j)\n",
        "    # generate random data matrix & target vector for training        \n",
        "    Training_X = Random_Data_Matrix(100,19)\n",
        "    w = np.random.normal(0,1,Training_X.shape[1])\n",
        "    Training_t = Target(Training_X, w, w0=0.5, Var=0.5*i)\n",
        "    x0=np.ones(Training_X.shape[0])\n",
        "    Training_X1 = np.column_stack((x0, Training_X))\n",
        "    # generate the validation data\n",
        "    Validation_X = Random_Data_Matrix(20,19)\n",
        "    #w = np.random.normal(0,1,Validation_X.shape[1])\n",
        "    Validation_t = Target(Validation_X, w, w0=0.5, Var=0.5*i)\n",
        "    x0=np.ones(Validation_X.shape[0])\n",
        "    Validation_X1 = np.column_stack((x0, Validation_X))\n",
        "\n",
        "    # call pre-defined gradient descent function\n",
        "    # store the Training_NRMSE in the list     \n",
        "    w, T_NRMSE = LR_Weights_Gradient_Descent(Training_X1, Training_t, l2=0.07, l1=0, eta=0.0001, max_iter=100, min_change_NRMSE=1e-7)\n",
        "           \n",
        "    temp_train_nrmse.append(T_NRMSE)\n",
        "    # using the w from training compute target in validation set\n",
        "    y=Validation_X1@w\n",
        "    # compute MSE\n",
        "    V_MSE=Mean_Square_Error(y,Validation_t)\n",
        "    # store the validation_NRMSE in the list\n",
        "    \n",
        "    temp_val_nrmse.append(np.sqrt(V_MSE)/np.std(Validation_t))\n",
        "    #Validation_NRMSE[i]=np.sqrt(V_MSE)/np.std(Validation_t)\n",
        "    j=j+1\n",
        "  Training_NRMSE.append(temp_train_nrmse)\n",
        "  #print(Training_NRMSE)\n",
        "  Validation_NRMSE.append(temp_val_nrmse)\n",
        "  i=i+1\n",
        "# now the box plot can be plotted with values from 'Training_NRMSE', 'Validation_NRMSE'\n",
        "fig, (ax1, ax2, ax3, ax4, ax5) = plt.subplots(1, 5, figsize=(25, 5))\n",
        "\n",
        "# create a box plot with the values in the 'Training_NRMSE', 'Validation_NRMSE' lists\n",
        "bp = ax1.boxplot([Training_NRMSE[0], Validation_NRMSE[0]], labels=['Training_NRMSE', 'Validation_NRMSE'])\n",
        "ax1.set_title('NRMSE Variation with Noise Var=0.5')\n",
        "ax1.set_ylabel('Values')\n",
        "\n",
        "bp = ax2.boxplot([Training_NRMSE[1], Validation_NRMSE[1]], labels=['Training_NRMSE', 'Validation_NRMSE'])\n",
        "ax2.set_title('NRMSE Variation with Noise Var=1.0')\n",
        "ax2.set_ylabel('Values')\n",
        "\n",
        "bp = ax3.boxplot([Training_NRMSE[2], Validation_NRMSE[2]], labels=['Training_NRMSE', 'Validation_NRMSE'])\n",
        "ax3.set_title('NRMSE Variation with Noise Var=1.5')\n",
        "ax3.set_ylabel('Values')\n",
        "\n",
        "bp = ax4.boxplot([Training_NRMSE[3], Validation_NRMSE[3]], labels=['Training_NRMSE', 'Validation_NRMSE'])\n",
        "ax4.set_title('NRMSE Variation with Noise Var=2.0')\n",
        "ax4.set_ylabel('Values')\n",
        "\n",
        "bp = ax5.boxplot([Training_NRMSE[4], Validation_NRMSE[4]], labels=['Training_NRMSE', 'Validation_NRMSE'])\n",
        "ax5.set_title('NRMSE Variation with Noise Var=2.5')\n",
        "ax5.set_ylabel('Values')\n",
        "\n",
        "# show the plots & lists of data\n",
        "plt.show()\n",
        "print(Training_NRMSE)\n",
        "print(Validation_NRMSE)\n",
        "# it can be observed that the validtion NRMSE shows more variation compared to the Training NRMSE\n",
        "# as noise increase NRMSE also increases"
      ],
      "metadata": {
        "colab": {
          "base_uri": "https://localhost:8080/",
          "height": 361
        },
        "id": "ecYuTcZJN_hW",
        "outputId": "81b190ee-9bd4-4b3e-c6ac-7dc696c3c8af"
      },
      "execution_count": 108,
      "outputs": [
        {
          "output_type": "display_data",
          "data": {
            "text/plain": [
              "<Figure size 1800x360 with 5 Axes>"
            ],
            "image/png": "[encoded data removed]"
          },
          "metadata": {
            "needs_background": "light"
          }
        },
        {
          "output_type": "stream",
          "name": "stdout",
          "text": [
            "[[0.8422238330676973, 0.8814219607509525, 0.8820004997084582, 0.8721337707262804, 0.8732436154772093, 0.8149144108697045], [0.8641009470029771, 0.9058215933452719, 0.906371042849558, 0.8982275814155675, 0.8940350443506904, 0.8450562693699621], [0.8794350446826743, 0.9198529277666025, 0.920370798968024, 0.9135848065195717, 0.9077683769708127, 0.8638318507960558], [0.890803891901793, 0.9290368162991284, 0.9294050030526434, 0.9237783452819364, 0.917608365485585, 0.8768228285219009], [0.8995674124334657, 0.9355510475457124, 0.9356833866426659, 0.9310641891693273, 0.9250415058026902, 0.886419467806118]]\n",
            "[[0.887127399698127, 0.9379954564226426, 0.9750018042795966, 0.8723827213518948, 0.8964622092890219, 0.8852136892048432], [0.9146954598927725, 0.9729026490270872, 1.0194680510483067, 0.8980336981815704, 0.9167585282119574, 0.9302217042150673], [0.9366510195413122, 0.9925383133034897, 1.0431189078668, 0.9162247393355036, 0.9315074930089845, 0.9590304653791437], [0.9540404901467275, 1.0050815006628908, 1.0573928190791446, 0.9293785193589658, 0.9421984694172212, 0.9786526335021738], [0.9678933994262577, 1.0138011490909193, 1.0667719229123511, 0.9392254841273344, 0.9502023490331845, 0.9927096318071847]]\n"
          ]
        }
      ]
    },
    {
      "cell_type": "markdown",
      "source": [
        "n) Training and validation NRMSE for optimal lambda1 with noise variance: Keep w and everything else fixed, except noise variance"
      ],
      "metadata": {
        "id": "DjoCW8Tdf4AL"
      }
    },
    {
      "cell_type": "code",
      "source": [
        "# using l1=0.07 as optimal values of lambda2, the NRMSE variation is obserevd in this question\n",
        "# we begin by creating the lists to store NRMSE vals for training & validation\n",
        "Training_NRMSE = np.empty(11)\n",
        "Validation_NRMSE = np.empty(11)\n",
        "i=1\n",
        "# set a random seed\n",
        "np.random.seed(21)\n",
        "while(i<11):\n",
        "    # generate random data matrix & target vector for training            \n",
        "    Training_X = Random_Data_Matrix(100,19)\n",
        "    w = np.random.normal(0,1,Training_X.shape[1])\n",
        "    Training_t = Target(Training_X, w, w0=0.5, Var=0.2*i)\n",
        "    x0=np.ones(Training_X.shape[0])\n",
        "    Training_X1 = np.column_stack((x0, Training_X))\n",
        "    # generate the validation data\n",
        "    Validation_X = Random_Data_Matrix(20,19)\n",
        "    #w = np.random.normal(0,1,Validation_X.shape[1])\n",
        "    Validation_t = Target(Validation_X, w, w0=0.5, Var=0.2*i)\n",
        "    x0=np.ones(Validation_X.shape[0])\n",
        "    Validation_X1 = np.column_stack((x0, Validation_X))\n",
        "\n",
        "    # call pre-defined gradient descent function\n",
        "    # store the Training_NRMSE in the list     \n",
        "    w, Training_NRMSE[i] = LR_Weights_Gradient_Descent(Training_X1, Training_t, l2=0.04, l1=0.07, eta=0.0001, max_iter=100, min_change_NRMSE=1e-7)\n",
        "    # using the w from training compute target in validation set\n",
        "    # compute MSE\n",
        "    y=Validation_X1@w\n",
        "    V_MSE=Mean_Square_Error(y,Validation_t)\n",
        "    # store the validation_NRMSE in the list\n",
        "    Validation_NRMSE[i]=np.sqrt(V_MSE)/np.std(Validation_t)\n",
        "    i=i+1\n",
        "\n",
        "# create a box plot with the values in the 'Training_NRMSE', 'Validation_NRMSE' lists\n",
        "fig, ax = plt.subplots()\n",
        "bp = ax.boxplot([Training_NRMSE[1:], Validation_NRMSE[1:]], labels=['Training_NRMSE', 'Validation_NRMSE'])\n",
        "ax.set_title('Box Plot')\n",
        "ax.set_xlabel('NRMSE Variation with Noise Variance for optimal lambda 1')\n",
        "ax.set_ylabel('Values')\n",
        "\n",
        "# visualise the box plots bw Training & Validation NRMSE\n",
        "plt.show()\n",
        "print(Training_NRMSE[1:])\n",
        "print(Validation_NRMSE[1:])\n",
        "# it can be observed that the validtion NRMSE shows more variation compared to the Training NRMSE\n",
        "# also as noise is increased the validation NRMSE is reduced"
      ],
      "metadata": {
        "colab": {
          "base_uri": "https://localhost:8080/",
          "height": 364
        },
        "id": "bGQQz0VAf92P",
        "outputId": "9206a7f7-047b-4d19-be67-2a5d1e0fa2c8"
      },
      "execution_count": 109,
      "outputs": [
        {
          "output_type": "display_data",
          "data": {
            "text/plain": [
              "<Figure size 432x288 with 1 Axes>"
            ],
            "image/png": "[encoded data removed]"
          },
          "metadata": {
            "needs_background": "light"
          }
        },
        {
          "output_type": "stream",
          "name": "stdout",
          "text": [
            "[0.82368084 0.84942607 0.88800344 0.9145323  0.92559959 0.88836259\n",
            " 0.91637734 0.90134921 0.9168505  0.93585225]\n",
            "[0.86769686 1.00753665 0.98248716 0.94928362 0.91445708 0.96923337\n",
            " 0.92260627 0.92217818 0.91215567 0.94452496]\n"
          ]
        }
      ]
    },
    {
      "cell_type": "code",
      "source": [
        "# updated for multiple values of random seed\n",
        "\n",
        "# using l1=0.09 as optimal values of lambda2, the NRMSE variation is obserevd in this question\n",
        "# we begin by creating the lists to store NRMSE vals for training & validation\n",
        "\n",
        "Training_NRMSE = []\n",
        "Validation_NRMSE = []\n",
        "i=1 #\n",
        "while(i<6):  \n",
        "  j=0\n",
        "  temp_train_nrmse=[]\n",
        "  temp_val_nrmse=[]\n",
        "  while(j<6):\n",
        "    np.random.seed(21+j)\n",
        "    # generate random data matrix & target vector for training            \n",
        "    Training_X = Random_Data_Matrix(100,19)\n",
        "    w = np.random.normal(0,1,Training_X.shape[1])\n",
        "    Training_t = Target(Training_X, w, w0=0.5, Var=0.5*i)\n",
        "    x0=np.ones(Training_X.shape[0])\n",
        "    Training_X1 = np.column_stack((x0, Training_X))\n",
        "    # generate the validation data\n",
        "    Validation_X = Random_Data_Matrix(20,19)\n",
        "    #w = np.random.normal(0,1,Validation_X.shape[1])\n",
        "    Validation_t = Target(Validation_X, w, w0=0.5, Var=0.5*i)\n",
        "    x0=np.ones(Validation_X.shape[0])\n",
        "    Validation_X1 = np.column_stack((x0, Validation_X))\n",
        "\n",
        "    # call pre-defined gradient descent function\n",
        "    # store the Training_NRMSE in the list     \n",
        "    w, T_NRMSE = LR_Weights_Gradient_Descent(Training_X1, Training_t, l2=0.04, l1=0.09, eta=0.0007, max_iter=100, min_change_NRMSE=1e-7)\n",
        "        \n",
        "    temp_train_nrmse.append(T_NRMSE)\n",
        "    # using the w from training compute target in validation set\n",
        "    y=Validation_X1@w\n",
        "    # compute MSE\n",
        "    V_MSE=Mean_Square_Error(y,Validation_t)\n",
        "    # store the validation_NRMSE in the list\n",
        "    \n",
        "    temp_val_nrmse.append(np.sqrt(V_MSE)/np.std(Validation_t))\n",
        "    #Validation_NRMSE[i]=np.sqrt(V_MSE)/np.std(Validation_t)\n",
        "    j=j+1\n",
        "  Training_NRMSE.append(temp_train_nrmse)\n",
        "  #print(Training_NRMSE)\n",
        "  Validation_NRMSE.append(temp_val_nrmse)\n",
        "  i=i+1\n",
        "# now the box plot can be plotted with values from 'Training_NRMSE', 'Validation_NRMSE'\n",
        "fig, (ax1, ax2, ax3, ax4, ax5) = plt.subplots(1, 5, figsize=(25, 5))\n",
        "\n",
        "# create a box plot with the values in the 'Training_NRMSE', 'Validation_NRMSE' lists\n",
        "bp = ax1.boxplot([Training_NRMSE[0], Validation_NRMSE[0]], labels=['Training_NRMSE', 'Validation_NRMSE'])\n",
        "ax1.set_title('NRMSE Variation with Noise Var=0.5')\n",
        "ax1.set_ylabel('Values')\n",
        "\n",
        "bp = ax2.boxplot([Training_NRMSE[1], Validation_NRMSE[1]], labels=['Training_NRMSE', 'Validation_NRMSE'])\n",
        "ax2.set_title('NRMSE Variation with Noise Var=1.0')\n",
        "ax2.set_ylabel('Values')\n",
        "\n",
        "bp = ax3.boxplot([Training_NRMSE[2], Validation_NRMSE[2]], labels=['Training_NRMSE', 'Validation_NRMSE'])\n",
        "ax3.set_title('NRMSE Variation with Noise Var=1.5')\n",
        "ax3.set_ylabel('Values')\n",
        "\n",
        "bp = ax4.boxplot([Training_NRMSE[3], Validation_NRMSE[3]], labels=['Training_NRMSE', 'Validation_NRMSE'])\n",
        "ax4.set_title('NRMSE Variation with Noise Var=2.0')\n",
        "ax4.set_ylabel('Values')\n",
        "\n",
        "bp = ax5.boxplot([Training_NRMSE[4], Validation_NRMSE[4]], labels=['Training_NRMSE', 'Validation_NRMSE'])\n",
        "ax5.set_title('NRMSE Variation with Noise Var=2.5')\n",
        "ax5.set_ylabel('Values')\n",
        "\n",
        "# show the plots & lists of data\n",
        "plt.show()\n",
        "print(Training_NRMSE)\n",
        "print(Validation_NRMSE)\n",
        "# it can be observed that the validtion NRMSE shows more variation compared to the Training NRMSE\n",
        "# as noise increase NRMSE also increases"
      ],
      "metadata": {
        "colab": {
          "base_uri": "https://localhost:8080/",
          "height": 361
        },
        "id": "ONJacoUfOVum",
        "outputId": "3aca624e-c3fd-4a28-86d1-c1ad66883853"
      },
      "execution_count": 110,
      "outputs": [
        {
          "output_type": "display_data",
          "data": {
            "text/plain": [
              "<Figure size 1800x360 with 5 Axes>"
            ],
            "image/png": "[encoded data removed]"
          },
          "metadata": {
            "needs_background": "light"
          }
        },
        {
          "output_type": "stream",
          "name": "stdout",
          "text": [
            "[[0.504760827385085, 0.6302821769193515, 0.6061405564074018, 0.5792566038494498, 0.530707565488168, 0.5040496295343443], [0.582349374390106, 0.7208824200988533, 0.6966340000971126, 0.675444017377361, 0.6235743878274785, 0.5968600290175565], [0.6329019783300389, 0.7681331271187761, 0.7459738353074088, 0.7280430887567185, 0.6794742183503365, 0.6497574768686304], [0.6687955814493401, 0.7975203949999594, 0.7771185698234612, 0.761731177826337, 0.7175266212115831, 0.6847232152033826], [0.6956998884039453, 0.8176920057456158, 0.7985575034260748, 0.7853213707101141, 0.7453465584033147, 0.7098292348312988]]\n",
            "[[0.5607352297732933, 0.8188865546073778, 0.7866611498202172, 0.5701075440086819, 0.5882535004521428, 0.7455894540534703], [0.6784764169498988, 0.9290088431394696, 0.9176219755797996, 0.6868121924291625, 0.7178460670168774, 0.8767579524164927], [0.7618990553656714, 0.9815361992867675, 0.9860264365327528, 0.7578288528933845, 0.7895826963545596, 0.950011128296346], [0.8234881555428432, 1.012094594284841, 1.02731242860221, 0.805274397046911, 0.834572724266511, 0.9961690018445089], [0.8702751531914653, 1.0319860536842447, 1.0548154930599052, 0.8386972668488987, 0.8651909937645729, 1.0274910573275247]]\n"
          ]
        }
      ]
    },
    {
      "cell_type": "markdown",
      "source": [
        "14. Write your overall learning points by doing entire assignment.\n",
        "\n",
        "\n",
        "i) It can be observed that as the no of samples/variables increases the computational requiremnts increase exponentially\n",
        "\n",
        "ii) The RAM is exhausted for samples in excess of 1000000 where it reaches the breakpoint for pseudo inverse solution.\n",
        "\n",
        "iii) Also for gradiemt descent the RAM is exhausted for samples in excess of 10000000 where it reaches the breakpoint which is higher than that of the Pseudo Inverse solution.\n",
        "\n",
        "iv) The validtion NRMSE shows more variation compared to the Training NRMSE\n",
        "\n",
        "v) As the value of lambda1 is increased, the number of nearly zero weights also increases\n",
        "\n",
        "vi) The number of nearly zero weights obtained in l1 is more than that of l2 as l1 produces a more sparser weight vector\n",
        "\n",
        "vii) It can be observed that the validtion NRMSE shows more variation compared to the Training NRMSE & as noise variance is increased the validation NRMSE is reduced.\n",
        "\n"
      ],
      "metadata": {
        "id": "clVjSeK3WSln"
      }
    },
    {
      "cell_type": "markdown",
      "source": [
        "15. Quote your references, including roll numbers of fellow students with whom you discussed. Be specific about which part was inspired by what source or which friend.\n",
        "\n",
        "Fellow Students with whom I discused the assignmnet\n",
        "\n",
        "Debasmit Dey 22D0519\n",
        "\n",
        "Sources and References consulted for completion of the assignment\n",
        "\n",
        "Box Plots\n",
        "https://www.coursera.org/learn/python-for-data-visualization/lecture/u9PzD/box-plots\n",
        "\n",
        "Linear Regression\n",
        "https://medium.com/geekculture/linear-regression-gradient-descent-model-regularization-fba0e2c1e4a7\n",
        "\n",
        "Regularisation \n",
        "https://towardsdatascience.com/intuitions-on-l1-and-l2-regularisation-235f2db4c261\n",
        "\n",
        "Arrays\n",
        "https://www.geeksforgeeks.org/python-initialize-empty-array-of-given-length/\n",
        "\n",
        "Logarithmic Scale\n",
        "https://www.geeksforgeeks.org/how-to-plot-logarithmic-axes-in-matplotlib/\n",
        "\n",
        "Norms\n",
        "https://towardsdatascience.com/intuitions-on-l1-and-l2-regularisation-235f2db4c261\n",
        "\n",
        "Linear Regression Solution\n",
        "https://www.statisticshowto.com/probability-and-statistics/regression-analysis/find-a-linear-regression-equation/"
      ],
      "metadata": {
        "id": "ufWfNS0pcgew"
      }
    }
  ]
}